{
 "cells": [
  {
   "cell_type": "markdown",
   "id": "1b44551e",
   "metadata": {},
   "source": [
    "# RAG chat\n",
    "\n",
    "https://github.com/guidance-ai/guidance/blob/ae8830f69553fd658bf32e0fdb478cd9518bab9e/notebooks/art_of_prompt_design/rag.ipynb"
   ]
  },
  {
   "cell_type": "code",
   "execution_count": 1,
   "id": "198de680",
   "metadata": {
    "ExecuteTime": {
     "end_time": "2022-06-28T02:34:01.879987Z",
     "start_time": "2022-06-28T02:34:01.864103Z"
    }
   },
   "outputs": [],
   "source": [
    "# autoreload your package\n",
    "%load_ext autoreload\n",
    "%autoreload 2\n",
    "import stampy_nb\n"
   ]
  },
  {
   "cell_type": "code",
   "execution_count": 2,
   "id": "a372ed7c",
   "metadata": {
    "ExecuteTime": {
     "end_time": "2022-06-28T02:34:02.470436Z",
     "start_time": "2022-06-28T02:34:02.424826Z"
    }
   },
   "outputs": [
    {
     "name": "stderr",
     "output_type": "stream",
     "text": [
      "/media/wassname/SGIronWolf/projects5/2024/stampy_nb/stampy_nb/.venv/lib/python3.10/site-packages/tqdm/auto.py:21: TqdmWarning: IProgress not found. Please update jupyter and ipywidgets. See https://ipywidgets.readthedocs.io/en/stable/user_install.html\n",
      "  from .autonotebook import tqdm as notebook_tqdm\n"
     ]
    }
   ],
   "source": [
    "## secrets\n",
    "from dotenv import load_dotenv\n",
    "load_dotenv()  # take environment variables from .env.\n",
    "\n",
    "# import warnings\n",
    "# warnings.filterwarnings(\"ignore\", \".*does not have many workers.*\")\n",
    "\n",
    "## numeric, plotting\n",
    "import numpy as np\n",
    "import pandas as pd\n",
    "import matplotlib.pyplot as plt\n",
    "%matplotlib inline\n",
    "plt.style.use('ggplot')\n",
    "plt.rcParams['figure.figsize'] = (7.0, 4)\n",
    "\n",
    "## utils\n",
    "from pathlib import Path\n",
    "from tqdm.auto import tqdm\n",
    "import logging, os, re\n",
    "import collections, functools, itertools\n",
    "\n",
    "# logging\n",
    "from loguru import logger\n",
    "# logger.remove()\n",
    "# logger.add(os.sys.stdout, level=\"ERROR\", colorize=True, format=\"<level>{time} | {message}</level>\")\n"
   ]
  },
  {
   "cell_type": "markdown",
   "id": "e7f0dfe4",
   "metadata": {},
   "source": [
    "## Helpers"
   ]
  },
  {
   "cell_type": "markdown",
   "id": "dba707de",
   "metadata": {},
   "source": [
    "### Search and data"
   ]
  },
  {
   "cell_type": "code",
   "execution_count": 3,
   "id": "66747368",
   "metadata": {},
   "outputs": [
    {
     "name": "stdout",
     "output_type": "stream",
     "text": [
      "{'id': 'https://api.bing.microsoft.com/api/v7/#WebPages.0', 'name': '2: Types of intervention and their development - Medicine LibreTexts', 'url': 'https://med.libretexts.org/Bookshelves/Nursing/Field_Trials_of_Health_Interventions_-_A_Toolbox_(Smith_Morrow_and_Ross)/02%3A_Types_of_intervention_and_their_development', 'isFamilyFriendly': True, 'displayUrl': 'https://med.libretexts.org/Bookshelves/Nursing/Field_Trials_of_Health_<b>Interventions</b>_-_A...', 'snippet': '2.1: Introduction to <b>types</b> of <b>intervention</b> and their development This book is about the evaluation of the effectiveness of health-related <b>interventions</b>. We use the term ‘<b>intervention</b>’ to apply to any activity undertaken with the objective of improving human health by preventing disease, by curing or reducing the severity or duration of an existing disease, or by restoring function lost ...', 'deepLinks': [{'name': 'Types of Intervention', 'url': 'https://med.libretexts.org/Bookshelves/Nursing/Field_Trials_of_Health_Interventions_-_A_Toolbox_(Smith_Morrow_and_Ross)/02%3A_Types_of_intervention_and_their_development/2.02%3A_Types_of_intervention', 'snippet': 'Page ID. Interventions can be classified into two broad categories: (1) preventive interventions are those that prevent disease from occurring and thus reduce the incidence (new cases) of disease, and (2) therapeutic interventions are those that treat, mitigate, or postpone the effects of disease, once it is under way, and thus reduce the case ...'}, {'name': 'References', 'url': 'https://med.libretexts.org/Bookshelves/Nursing/Field_Trials_of_Health_Interventions_-_A_Toolbox_(Smith_Morrow_and_Ross)/02%3A_Types_of_intervention_and_their_development/2.04%3A_References', 'snippet': 'This page titled 2.4: References is shared under a CC BY-NC 4.0 license and was authored, remixed, and/or curated by Drue H. Barrett, Angus Dawson, Leonard W. Ortmann (Oxford University Press) via source content that was edited to the style and standards of the LibreTexts platform; a detailed edit history is available upon request.'}], 'dateLastCrawled': '2024-06-16T13:19:00.0000000Z', 'cachedPageUrl': 'http://cc.bingj.com/cache.aspx?q=What+are+the+main+categories+of+mechinterp+interventions%3f&d=4936283637947965&mkt=en-AU&setlang=en-GB&w=sJL0ODffWgbEwzc-da-HiKcQTd_gqvo7', 'language': 'en', 'isNavigational': True, 'noCache': False, 'content': '2.1: Introduction to types of intervention and their development This book is about the evaluation of the effectiveness of health-related interventions. We use the term ‘intervention’ to apply to any activity undertaken with the objective of improving human health by preventing disease, by curing or reducing the severity or duration of an existing disease, or by restoring function lost ...'}\n"
     ]
    }
   ],
   "source": [
    "import os\n",
    "import diskcache\n",
    "import pathlib\n",
    "import requests\n",
    "import html\n",
    "from urllib.parse import urlparse\n",
    "import urllib.parse\n",
    "import io\n",
    "import html\n",
    "import html.parser\n",
    "\n",
    "curr_dir = './'\n",
    "_bing_cache = diskcache.Cache(f\"{curr_dir}/../bing.diskcache\")\n",
    "\n",
    "\n",
    "BING_SEARCH_KEY = os.environ['BING_SEARCH_KEY']\n",
    "\n",
    "class MLStripper(html.parser.HTMLParser):\n",
    "    def __init__(self):\n",
    "        super().__init__()\n",
    "        self.reset()\n",
    "        self.strict = False\n",
    "        self.convert_charrefs = True\n",
    "        self.text = io.StringIO()\n",
    "    def handle_data(self, d):\n",
    "        self.text.write(d)\n",
    "    def get_data(self):\n",
    "        return self.text.getvalue()\n",
    "\n",
    "def strip_tags(html):\n",
    "    s = MLStripper()\n",
    "    s.feed(html)\n",
    "    return s.get_data()\n",
    "\n",
    "def bing_search(search_terms, count=10):\n",
    "    if type(search_terms) == str:\n",
    "        search_terms = [search_terms]\n",
    "    search_url = \"https://api.bing.microsoft.com/v7.0/search\"\n",
    "\n",
    "    headers = {\"Ocp-Apim-Subscription-Key\": BING_SEARCH_KEY}\n",
    "    search_results = []\n",
    "    for search_term in search_terms:\n",
    "        params = {\"q\": search_term, \"textDecorations\": True, \"textFormat\": \"HTML\", \"cout\": count}\n",
    "        params_key = search_term + \"-___-\" + str(count)\n",
    "        if params_key not in _bing_cache or \"webPages\" not in _bing_cache[params_key]:\n",
    "            response = requests.get(search_url, headers=headers, params=params)\n",
    "            response.raise_for_status()\n",
    "            _bing_cache[params_key] = response.json()\n",
    "        if \"webPages\" not in _bing_cache[params_key]:\n",
    "            # no results\n",
    "            logger.warning(\"No results found for %s\", search_term)\n",
    "            continue\n",
    "        data = _bing_cache[params_key][\"webPages\"][\"value\"]\n",
    "        for r in data:\n",
    "            r[\"content\"] = strip_tags(r[\"snippet\"])\n",
    "        search_results.extend(data)\n",
    "    return search_results\n",
    "    return [format_snippet(s) for s in search_results]\n",
    "\n",
    "def top_snippets(query, n=3):\n",
    "    results = bing_search(query, count=n)[:n]\n",
    "    return [{'title': x['name'], 'snippet': x['content']} for x in results]\n",
    "\n",
    "def format_snippet(s):\n",
    "    return f\"\"\"url: {s['url']}\\ntitle: {s['name']}\\nextrat: {s['snippet']}\"\"\".strip()\n",
    "\n",
    "q = \"What are the main categories of mechinterp interventions?\"\n",
    "print(bing_search(q)[0])"
   ]
  },
  {
   "cell_type": "code",
   "execution_count": 4,
   "id": "54a03c3a",
   "metadata": {},
   "outputs": [],
   "source": [
    "# from datasets import load_dataset\n",
    "# data = load_dataset('StampyAI/alignment-research-dataset', trust_remote_code=True)\n",
    "# # TODO also search google and bing https://python.langchain.com/v0.2/docs/integrations/tools/search_tools/\n",
    "# data"
   ]
  },
  {
   "cell_type": "markdown",
   "id": "1fe4cbe7",
   "metadata": {},
   "source": [
    "### Prompts"
   ]
  },
  {
   "cell_type": "code",
   "execution_count": 5,
   "id": "76cdae9b",
   "metadata": {},
   "outputs": [],
   "source": [
    "# https://github.com/StampyAI/stampy-chat/blob/main/api/src/stampy_chat/settings.py\n",
    "\n",
    "SOURCE_PROMPT = (\n",
    "    \"You are a helpful assistant knowledgeable about AI Alignment and Safety. \"\n",
    "    \"Please give a clear and coherent answer to the user's questions. (written after \\\"Q:\\\") \"\n",
    "    \"using the following sources. Each source is labeled with a letter. Feel free to \"\n",
    "    \"use the sources in any order, and try to use multiple sources in your answers.\\n\\n\"\n",
    ")\n",
    "HISTORY_PROMPT = (\n",
    "    \"\\n\\n\"\n",
    "    \"Before the question (\\\"Q: \\\"), there will be a history of previous questions and answers. \"\n",
    "    \"These sources only apply to the last question. Any sources used in previous answers \"\n",
    "    \"are invalid.\"\n",
    ")\n",
    "HISTORY_SUMMARIZE_PROMPT = (\n",
    "    \"You are a helpful assistant knowledgeable about AI Alignment and Safety. \"\n",
    "    \"Please summarize the following chat history (written after \\\"H:\\\") in one \"\n",
    "    \"sentence so as to put the current questions (written after \\\"Q:\\\") in context. \"\n",
    "    \"Please keep things as terse as possible.\"\n",
    "    \"\\nH:\"\n",
    ")\n",
    "\n",
    "QUESTION_PROMPT = (\n",
    "    \"In your answer, please cite any claims you make back to each source \"\n",
    "    \"using the format: [a], [b], etc. If you use multiple sources to make a claim \"\n",
    "    \"cite all of them. For example: \\\"AGI is concerning [c, d, e].\\\"\\n\\n\"\n",
    ")\n",
    "PROMPT_MODES = {\n",
    "    'default': \"\",\n",
    "    \"concise\": (\n",
    "        \"Answer very concisely, getting to the crux of the matter in as \"\n",
    "        \"few words as possible. Limit your answer to 1-2 sentences.\\n\\n\"\n",
    "    ),\n",
    "    \"rookie\": (\n",
    "        \"This user is new to the field of AI Alignment and Safety - don't \"\n",
    "        \"assume they know any technical terms or jargon. Still give a complete answer \"\n",
    "        \"without patronizing the user, but take any extra time needed to \"\n",
    "        \"explain new concepts or to illustrate your answer with examples. \"\n",
    "        \"Put extra effort into explaining the intuition behind concepts \"\n",
    "        \"rather than just giving a formal definition.\\n\\n\"\n",
    "    ),\n",
    "    \"discord\": (\n",
    "        \"Your answer will be used in a Discord channel, so please Answer concisely, getting to \"\n",
    "        \"the crux of the matter in as few words as possible. Limit your answer to 1-2 paragraphs.\\n\\n\"\n",
    "    ),\n",
    "}\n",
    "DEFAULT_PROMPTS = {\n",
    "    'context': SOURCE_PROMPT,\n",
    "    'history': HISTORY_PROMPT,\n",
    "    'history_summary': HISTORY_SUMMARIZE_PROMPT,\n",
    "    'question': QUESTION_PROMPT,\n",
    "    'modes': PROMPT_MODES,\n",
    "}"
   ]
  },
  {
   "cell_type": "code",
   "execution_count": null,
   "id": "cf68aad2",
   "metadata": {},
   "outputs": [],
   "source": []
  },
  {
   "cell_type": "code",
   "execution_count": 6,
   "id": "a5657196",
   "metadata": {},
   "outputs": [
    {
     "name": "stderr",
     "output_type": "stream",
     "text": [
      "\u001b[32m2024-06-22 09:41:17.104\u001b[0m | \u001b[1mINFO    \u001b[0m | \u001b[36m__main__\u001b[0m:\u001b[36m<module>\u001b[0m:\u001b[36m12\u001b[0m - \u001b[1mtest\u001b[0m\n"
     ]
    }
   ],
   "source": [
    "import random\n",
    "import guidance\n",
    "from guidance import models, gen, select, substring, string, prefix_tree, regex, user, assistant, system\n",
    "from guidance import silent, capture, Tool, one_or_more, any_char, commit_point\n",
    "\n",
    "# llama2 = models.LlamaCpp(\"/home/marcotcr_google_com/work/models/llama-2-13b-chat.Q6_K.gguf\", n_gpu_layers=-1, n_ctx=4096)\n",
    "llama2 = models.OpenAI(\"gpt-3.5-turbo\")\n",
    "\n",
    "import sys\n",
    "# logger.add(sys.stderr, format=\"{time} {level} {message}\", level=\"INFO\", colorize=True)\n",
    "# logger.add(sys.stdout, colorize=True, format=\"<green>{time}</green> <level>{message}</level>\")\n",
    "logger.info(\"test\")"
   ]
  },
  {
   "cell_type": "code",
   "execution_count": 7,
   "id": "0b0bc227",
   "metadata": {},
   "outputs": [],
   "source": [
    "def format_snippets(snippets, start=1):\n",
    "    ret = ''\n",
    "    for i, s in enumerate(snippets, start=start):\n",
    "        title = s['title']\n",
    "        snippet = s['snippet']\n",
    "        ret += f'[{i}] {title}\\n'\n",
    "        ret += f'{snippet}\\n\\n'\n",
    "    return ret\n",
    "\n",
    "@guidance\n",
    "def search(lm, query):\n",
    "    # Setting this for later use\n",
    "    lm = lm.set('query', query)\n",
    "    # This is where search actually gets called\n",
    "    lm = lm.set('snippets', format_snippets(top_snippets(query)))\n",
    "    lm += '\\nObservation:\\n' + lm['snippets']\n",
    "    return lm\n",
    "\n",
    "@guidance\n",
    "def rephrase(lm, \n",
    "    query: str = \"What is the main category of mechinterp interventions?\"\n",
    "):\n",
    "    with silent():\n",
    "        with system():\n",
    "            lm += '''\n",
    "            '''\n",
    "        with user():\n",
    "            lm += f\"Please rewrite the following search query to use with common synonyms, keywords, and phrasing. The result should help find documents to answer this question: {query}\"\n",
    "        with assistant():\n",
    "            lm += gen('q_rephrased')\n",
    "    return lm\n",
    "\n",
    "\n",
    "@guidance\n",
    "def example_answer(lm,\n",
    "                    query: str = \"What is the main category of mechinterp interventions?\"\n",
    "                    ):\n",
    "    with silent():\n",
    "        with system():\n",
    "            lm += '''\n",
    "            '''\n",
    "        with user():\n",
    "            lm += f\"Please draft a concrete and concise example answer that ties together all elements of the following question in a paragraph or less: {query}\"\n",
    "        with assistant():\n",
    "            lm += gen('q_example_ans')    \n",
    "    return lm"
   ]
  },
  {
   "cell_type": "markdown",
   "id": "deee4ac8",
   "metadata": {},
   "source": [
    "### Run"
   ]
  },
  {
   "cell_type": "code",
   "execution_count": 27,
   "id": "8bc27bcf",
   "metadata": {},
   "outputs": [
    {
     "data": {
      "text/html": [
       "The main categories of mechanistic interpretability interventions involve using bottom-up or reverse engineering approaches to understand complex AI systems. This includes corresponding low-level components such as circuits or neurons to components of human-understandable algorithms and then working upward to build an overall understanding [<a href=\"https://www.lesswrong.com/posts/tEPHGZAb63dfq2v8n/how-useful-is-mechanistic-interpretability\"><span title=\"How useful is mechanistic interpretability? — LessWrong:</p></p>By mech interp I mean &quot;A subfield of interpretability that uses bottom-up or reverse engineering approaches, generally by corresponding low-level components such as circuits or neurons to components of human-understandable algorithms and then working upward to build an overall understanding.&quot; Neel Nanda.\">21</span></a>, ]. Mechanistic interpretability aims to uncover the inner workings of AI systems and is a rapidly evolving field that provides insights into how these systems operate [<a href=\"https://mech-interp.pages.dev/\"><span title=\"Mechanistic Interpretability Website:</p></p>Mechanistic interpretability is an exciting and rapidly evolving field that aims to uncover the inner workings of complex AI systems. Our mission is to be a hub for the latest research, resources, and community engagement around this important topic. Whether you&#x27;re a policymaker looking to understand the implications of AI, a researcher delving ...\">29</span></a>, ].</p></p>References:</p></p><a href=\"https://bjgp.org/content/71/702/e10\">[1]</a>: Multicomponent interventions for enhancing primary care: a systematic ... - Results From 37 included articles, most interventions aimed to improve access, enhance incentives for providers, provide team-based care, and introduce technologies. The most consistent improvements related to increased primary care visits and screening/preventive services, and improved patient and provider satisfaction; mixed results were found for hospital admissions, emergency department ...</p><a href=\"https://www.ncbi.nlm.nih.gov/books/NBK305514/\">[2]</a>: Types of intervention and their development - 2. Types of intervention. Interventions can be classified into two broad categories: (1) preventive interventions are those that prevent disease from occurring and thus reduce the incidence (new cases) of disease, and (2) therapeutic interventions are those that treat, mitigate, or postpone the effects of disease, once it is under way, and thus reduce the case fatality rate or reduce the ...</p><a href=\"https://academic.oup.com/book/31771/chapter/265858245\">[9]</a>: 2 Types of intervention and their development - Oxford Academic - Interventions can be classified into two broad categories: (1) preventive interventions are those that prevent disease from occurring and thus reduce the incidence (new cases) of disease, and (2) therapeutic interventions are those that treat, mitigate, or postpone the effects of disease, once it is under way, and thus reduce the case fatality rate or reduce the disability or morbidity ...</p>"
      ],
      "text/plain": [
       "<IPython.core.display.HTML object>"
      ]
     },
     "execution_count": 27,
     "metadata": {},
     "output_type": "execute_result"
    }
   ],
   "source": [
    "import re\n",
    "import html\n",
    "from IPython.core.display import HTML\n",
    "\n",
    "def format_ans(ans, docs):\n",
    "    pattern = r'\\[\\s*((?:\\d+\\s*(?:,\\s*\\d+\\s*)*)?)\\]'\n",
    "    matches = re.findall(pattern, ans)\n",
    "    # print(matches)\n",
    "    text2 = ans + ''\n",
    "    for m in matches:\n",
    "        ns = m.strip(', ').split(', ')\n",
    "        m2 = ''\n",
    "        for n in ns:\n",
    "            d = docs[int(n)]\n",
    "            tooltip = html.escape(f\"{d['name']}:\\n\\n{d['content']}\").strip()\n",
    "            m2 += f'<a href=\"{d[\"url\"]}\"><span title=\"{tooltip}\">{n}</span></a>, '\n",
    "        # print('m2', m2)\n",
    "        text2 = text2.replace(m, m2)\n",
    "\n",
    "\n",
    "    # now a list of refs\n",
    "    refs = list(set(itertools.chain(*matches)))\n",
    "    text2 += \"\\n\\nReferences:\\n\\n\"\n",
    "    for r in refs:\n",
    "        d = docs[int(r)]\n",
    "        tooltip = html.escape(f\"{d['name']}:\\n\\n{d['content']}\")\n",
    "        text2 += f'<a href=\"{d[\"url\"]}\">[{r}]</a>: {html.escape(d[\"name\"])} - {html.escape(d[\"content\"])}\\n'\n",
    "\n",
    "    text2 = text2.replace('\\n', '</p>')\n",
    "    # print('text', text)\n",
    "\n",
    "\n",
    "\n",
    "    # print(text2)\n",
    "    return HTML(text2)\n",
    "\n",
    "\n",
    "# format_ans(ans, docs)"
   ]
  },
  {
   "cell_type": "code",
   "execution_count": 9,
   "id": "42ae81ca",
   "metadata": {},
   "outputs": [
    {
     "data": {
      "text/html": [
       "<pre style='margin: 0px; padding: 0px; vertical-align: middle; padding-left: 8px; margin-left: -8px; border-radius: 0px; border-left: 1px solid rgba(127, 127, 127, 0.2); white-space: pre-wrap; font-family: ColfaxAI, Arial; font-size: 15px; line-height: 23px;'><div style='display: inline-block; cursor: pointer; opacity: 0.5; width: 2px; margin-left: -2px;' onClick='this.nextSibling.style.display = \"inline\"; this.style.display = \"none\"'>&caron;</div><div style='display: none;'><div style='display: flex; border-bottom: 1px solid rgba(127, 127, 127, 0.2);  justify-content: center; align-items: center;'><div style='flex: 0 0 80px; opacity: 0.5;'>system</div><div style='flex-grow: 1; padding: 5px; padding-top: 10px; padding-bottom: 10px; margin-top: 0px; white-space: pre-wrap; margin-bottom: 0px;'>\n",
       "</div></div><div style='display: flex; border-bottom: 1px solid rgba(127, 127, 127, 0.2);  justify-content: center; align-items: center;'><div style='flex: 0 0 80px; opacity: 0.5;'>user</div><div style='flex-grow: 1; padding: 5px; padding-top: 10px; padding-bottom: 10px; margin-top: 0px; white-space: pre-wrap; margin-bottom: 0px;'>Please draft a concrete and concise example answer that ties together all elements of the following question in a paragraph or less: What are the main categories of mechinterp interventions?</div></div><div style='display: flex; border-bottom: 1px solid rgba(127, 127, 127, 0.2);  justify-content: center; align-items: center;'><div style='flex: 0 0 80px; opacity: 0.5;'>assistant</div><div style='flex-grow: 1; padding: 5px; padding-top: 10px; padding-bottom: 10px; margin-top: 0px; white-space: pre-wrap; margin-bottom: 0px;'><span style='background-color: rgba(0.0, 165.0, 0, 0.15); border-radius: 3px;' title='1.0'>Mech</span><span style='background-color: rgba(0.0, 165.0, 0, 0.15); border-radius: 3px;' title='1.0'>interp</span><span style='background-color: rgba(0.0, 165.0, 0, 0.15); border-radius: 3px;' title='1.0'> interventions</span><span style='background-color: rgba(0.0, 165.0, 0, 0.15); border-radius: 3px;' title='1.0'> can</span><span style='background-color: rgba(0.0, 165.0, 0, 0.15); border-radius: 3px;' title='1.0'> be</span><span style='background-color: rgba(0.0, 165.0, 0, 0.15); border-radius: 3px;' title='1.0'> broadly</span><span style='background-color: rgba(0.0, 165.0, 0, 0.15); border-radius: 3px;' title='1.0'> categorized</span><span style='background-color: rgba(0.0, 165.0, 0, 0.15); border-radius: 3px;' title='1.0'> into</span><span style='background-color: rgba(0.0, 165.0, 0, 0.15); border-radius: 3px;' title='1.0'> three</span><span style='background-color: rgba(0.0, 165.0, 0, 0.15); border-radius: 3px;' title='1.0'> main</span><span style='background-color: rgba(0.0, 165.0, 0, 0.15); border-radius: 3px;' title='1.0'> groups</span><span style='background-color: rgba(0.0, 165.0, 0, 0.15); border-radius: 3px;' title='1.0'>:</span><span style='background-color: rgba(0.0, 165.0, 0, 0.15); border-radius: 3px;' title='1.0'> mechanical</span><span style='background-color: rgba(0.0, 165.0, 0, 0.15); border-radius: 3px;' title='1.0'>,</span><span style='background-color: rgba(0.0, 165.0, 0, 0.15); border-radius: 3px;' title='1.0'> interpret</span><span style='background-color: rgba(0.0, 165.0, 0, 0.15); border-radius: 3px;' title='1.0'>ive</span><span style='background-color: rgba(0.0, 165.0, 0, 0.15); border-radius: 3px;' title='1.0'>,</span><span style='background-color: rgba(0.0, 165.0, 0, 0.15); border-radius: 3px;' title='1.0'> and</span><span style='background-color: rgba(0.0, 165.0, 0, 0.15); border-radius: 3px;' title='1.0'> integr</span><span style='background-color: rgba(0.0, 165.0, 0, 0.15); border-radius: 3px;' title='1.0'>ative</span><span style='background-color: rgba(0.0, 165.0, 0, 0.15); border-radius: 3px;' title='1.0'>.</span><span style='background-color: rgba(0.0, 165.0, 0, 0.15); border-radius: 3px;' title='1.0'> Mechanical</span><span style='background-color: rgba(0.0, 165.0, 0, 0.15); border-radius: 3px;' title='1.0'> interventions</span><span style='background-color: rgba(0.0, 165.0, 0, 0.15); border-radius: 3px;' title='1.0'> involve</span><span style='background-color: rgba(0.0, 165.0, 0, 0.15); border-radius: 3px;' title='1.0'> physical</span><span style='background-color: rgba(0.0, 165.0, 0, 0.15); border-radius: 3px;' title='1.0'> adjustments</span><span style='background-color: rgba(0.0, 165.0, 0, 0.15); border-radius: 3px;' title='1.0'> or</span><span style='background-color: rgba(0.0, 165.0, 0, 0.15); border-radius: 3px;' title='1.0'> modifications</span><span style='background-color: rgba(0.0, 165.0, 0, 0.15); border-radius: 3px;' title='1.0'> to</span><span style='background-color: rgba(0.0, 165.0, 0, 0.15); border-radius: 3px;' title='1.0'> the</span><span style='background-color: rgba(0.0, 165.0, 0, 0.15); border-radius: 3px;' title='1.0'> environment</span><span style='background-color: rgba(0.0, 165.0, 0, 0.15); border-radius: 3px;' title='1.0'> or</span><span style='background-color: rgba(0.0, 165.0, 0, 0.15); border-radius: 3px;' title='1.0'> equipment</span><span style='background-color: rgba(0.0, 165.0, 0, 0.15); border-radius: 3px;' title='1.0'> to</span><span style='background-color: rgba(0.0, 165.0, 0, 0.15); border-radius: 3px;' title='1.0'> improve</span><span style='background-color: rgba(0.0, 165.0, 0, 0.15); border-radius: 3px;' title='1.0'> accessibility</span><span style='background-color: rgba(0.0, 165.0, 0, 0.15); border-radius: 3px;' title='1.0'> and</span><span style='background-color: rgba(0.0, 165.0, 0, 0.15); border-radius: 3px;' title='1.0'> usability</span><span style='background-color: rgba(0.0, 165.0, 0, 0.15); border-radius: 3px;' title='1.0'>.</span><span style='background-color: rgba(0.0, 165.0, 0, 0.15); border-radius: 3px;' title='1.0'> Interpret</span><span style='background-color: rgba(0.0, 165.0, 0, 0.15); border-radius: 3px;' title='1.0'>ive</span><span style='background-color: rgba(0.0, 165.0, 0, 0.15); border-radius: 3px;' title='1.0'> interventions</span><span style='background-color: rgba(0.0, 165.0, 0, 0.15); border-radius: 3px;' title='1.0'> focus</span><span style='background-color: rgba(0.0, 165.0, 0, 0.15); border-radius: 3px;' title='1.0'> on</span><span style='background-color: rgba(0.0, 165.0, 0, 0.15); border-radius: 3px;' title='1.0'> providing</span><span style='background-color: rgba(0.0, 165.0, 0, 0.15); border-radius: 3px;' title='1.0'> explanations</span><span style='background-color: rgba(0.0, 165.0, 0, 0.15); border-radius: 3px;' title='1.0'> or</span><span style='background-color: rgba(0.0, 165.0, 0, 0.15); border-radius: 3px;' title='1.0'> translations</span><span style='background-color: rgba(0.0, 165.0, 0, 0.15); border-radius: 3px;' title='1.0'> to</span><span style='background-color: rgba(0.0, 165.0, 0, 0.15); border-radius: 3px;' title='1.0'> bridge</span><span style='background-color: rgba(0.0, 165.0, 0, 0.15); border-radius: 3px;' title='1.0'> communication</span><span style='background-color: rgba(0.0, 165.0, 0, 0.15); border-radius: 3px;' title='1.0'> gaps</span><span style='background-color: rgba(0.0, 165.0, 0, 0.15); border-radius: 3px;' title='1.0'> or</span><span style='background-color: rgba(0.0, 165.0, 0, 0.15); border-radius: 3px;' title='1.0'> clarify</span><span style='background-color: rgba(0.0, 165.0, 0, 0.15); border-radius: 3px;' title='1.0'> information</span><span style='background-color: rgba(0.0, 165.0, 0, 0.15); border-radius: 3px;' title='1.0'>.</span><span style='background-color: rgba(0.0, 165.0, 0, 0.15); border-radius: 3px;' title='1.0'> Integr</span><span style='background-color: rgba(0.0, 165.0, 0, 0.15); border-radius: 3px;' title='1.0'>ative</span><span style='background-color: rgba(0.0, 165.0, 0, 0.15); border-radius: 3px;' title='1.0'> interventions</span><span style='background-color: rgba(0.0, 165.0, 0, 0.15); border-radius: 3px;' title='1.0'> aim</span><span style='background-color: rgba(0.0, 165.0, 0, 0.15); border-radius: 3px;' title='1.0'> to</span><span style='background-color: rgba(0.0, 165.0, 0, 0.15); border-radius: 3px;' title='1.0'> combine</span><span style='background-color: rgba(0.0, 165.0, 0, 0.15); border-radius: 3px;' title='1.0'> mechanical</span><span style='background-color: rgba(0.0, 165.0, 0, 0.15); border-radius: 3px;' title='1.0'> and</span><span style='background-color: rgba(0.0, 165.0, 0, 0.15); border-radius: 3px;' title='1.0'> interpret</span><span style='background-color: rgba(0.0, 165.0, 0, 0.15); border-radius: 3px;' title='1.0'>ive</span><span style='background-color: rgba(0.0, 165.0, 0, 0.15); border-radius: 3px;' title='1.0'> strategies</span><span style='background-color: rgba(0.0, 165.0, 0, 0.15); border-radius: 3px;' title='1.0'> to</span><span style='background-color: rgba(0.0, 165.0, 0, 0.15); border-radius: 3px;' title='1.0'> create</span><span style='background-color: rgba(0.0, 165.0, 0, 0.15); border-radius: 3px;' title='1.0'> a</span><span style='background-color: rgba(0.0, 165.0, 0, 0.15); border-radius: 3px;' title='1.0'> seamless</span><span style='background-color: rgba(0.0, 165.0, 0, 0.15); border-radius: 3px;' title='1.0'> and</span><span style='background-color: rgba(0.0, 165.0, 0, 0.15); border-radius: 3px;' title='1.0'> inclusive</span><span style='background-color: rgba(0.0, 165.0, 0, 0.15); border-radius: 3px;' title='1.0'> experience</span><span style='background-color: rgba(0.0, 165.0, 0, 0.15); border-radius: 3px;' title='1.0'> for</span><span style='background-color: rgba(0.0, 165.0, 0, 0.15); border-radius: 3px;' title='1.0'> all</span><span style='background-color: rgba(0.0, 165.0, 0, 0.15); border-radius: 3px;' title='1.0'> individuals</span><span style='background-color: rgba(0.0, 165.0, 0, 0.15); border-radius: 3px;' title='1.0'>,</span><span style='background-color: rgba(0.0, 165.0, 0, 0.15); border-radius: 3px;' title='1.0'> ensuring</span><span style='background-color: rgba(0.0, 165.0, 0, 0.15); border-radius: 3px;' title='1.0'> that</span><span style='background-color: rgba(0.0, 165.0, 0, 0.15); border-radius: 3px;' title='1.0'> both</span><span style='background-color: rgba(0.0, 165.0, 0, 0.15); border-radius: 3px;' title='1.0'> physical</span><span style='background-color: rgba(0.0, 165.0, 0, 0.15); border-radius: 3px;' title='1.0'> and</span><span style='background-color: rgba(0.0, 165.0, 0, 0.15); border-radius: 3px;' title='1.0'> informational</span><span style='background-color: rgba(0.0, 165.0, 0, 0.15); border-radius: 3px;' title='1.0'> barriers</span><span style='background-color: rgba(0.0, 165.0, 0, 0.15); border-radius: 3px;' title='1.0'> are</span><span style='background-color: rgba(0.0, 165.0, 0, 0.15); border-radius: 3px;' title='1.0'> addressed</span><span style='background-color: rgba(0.0, 165.0, 0, 0.15); border-radius: 3px;' title='1.0'> effectively</span><span style='background-color: rgba(0.0, 165.0, 0, 0.15); border-radius: 3px;' title='1.0'>.</span></div></div></div></pre>"
      ],
      "text/plain": [
       "<IPython.core.display.HTML object>"
      ]
     },
     "metadata": {},
     "output_type": "display_data"
    },
    {
     "name": "stderr",
     "output_type": "stream",
     "text": [
      "\u001b[32m2024-06-22 09:41:20.465\u001b[0m | \u001b[1mINFO    \u001b[0m | \u001b[36m__main__\u001b[0m:\u001b[36m<module>\u001b[0m:\u001b[36m17\u001b[0m - \u001b[1mExample answer: Mechinterp interventions can be broadly categorized into three main groups: mechanical, interpretive, and integrative. Mechanical interventions involve physical adjustments or modifications to the environment or equipment to improve accessibility and usability. Interpretive interventions focus on providing explanations or translations to bridge communication gaps or clarify information. Integrative interventions aim to combine mechanical and interpretive strategies to create a seamless and inclusive experience for all individuals, ensuring that both physical and informational barriers are addressed effectively.\u001b[0m\n"
     ]
    },
    {
     "data": {
      "text/plain": [
       "'In your answer, please cite any claims you make back to each source using the format: [a], [b], etc. If you use multiple sources to make a claim cite all of them. For example: \"AGI is concerning [c, d, e].\"\\n\\n'"
      ]
     },
     "execution_count": 9,
     "metadata": {},
     "output_type": "execute_result"
    }
   ],
   "source": [
    "# Step 1 search\n",
    "lm = llama2\n",
    "q = \"What are the main categories of mechinterp interventions?\"\n",
    "\n",
    "\n",
    "# Step 2 rephrase and example answers\n",
    "docs = []\n",
    "docs += bing_search(q)\n",
    "\n",
    "q_rephrased = lm + rephrase(q)\n",
    "q_rephrased = q_rephrased['q_rephrased'].strip('\"\\' ')\n",
    "logger.info(f\"Rephrased query: {q_rephrased}\")\n",
    "docs += bing_search(q_rephrased)\n",
    "\n",
    "q_example_ans = lm + example_answer(q)\n",
    "q_example_ans = q_example_ans['q_example_ans'].strip('\"\\' ')\n",
    "logger.info(f\"Example answer: {q_example_ans}\")\n",
    "docs += bing_search(q_example_ans)\n",
    "\n",
    "random.shuffle(docs)\n",
    "\n",
    "# Step 3 rerank\n",
    "# TODO\n",
    "\n",
    "# Step 3 summarize and generate\n",
    "SOURCE_PROMPT\n",
    "QUESTION_PROMPT\n",
    "\n",
    "\n"
   ]
  },
  {
   "cell_type": "code",
   "execution_count": 13,
   "id": "22173783",
   "metadata": {},
   "outputs": [
    {
     "data": {
      "text/html": [
       "<pre style='margin: 0px; padding: 0px; vertical-align: middle; padding-left: 8px; margin-left: -8px; border-radius: 0px; border-left: 1px solid rgba(127, 127, 127, 0.2); white-space: pre-wrap; font-family: ColfaxAI, Arial; font-size: 15px; line-height: 23px;'><div style='display: flex; border-bottom: 1px solid rgba(127, 127, 127, 0.2);  justify-content: center; align-items: center;'><div style='flex: 0 0 80px; opacity: 0.5;'>system</div><div style='flex-grow: 1; padding: 5px; padding-top: 10px; padding-bottom: 10px; margin-top: 0px; white-space: pre-wrap; margin-bottom: 0px;'>You are a helpful assistant knowledgeable about AI Alignment and Safety. Please give a clear and coherent answer to the user&#x27;s questions. (written after &quot;Q:&quot;) using the following sources. Each source is labeled with a letter. Feel free to use the sources in any order, and try to use multiple sources in your answers</div></div><div style='display: flex; border-bottom: 1px solid rgba(127, 127, 127, 0.2);  justify-content: center; align-items: center;'><div style='flex: 0 0 80px; opacity: 0.5;'>user</div><div style='flex-grow: 1; padding: 5px; padding-top: 10px; padding-bottom: 10px; margin-top: 0px; white-space: pre-wrap; margin-bottom: 0px;'>[0] 2 Types of intervention and their development - Oxford Academic Interventions can be classified into two broad categories: (1) preventive interventions are those that prevent disease from occurring and thus reduce the incidence (new cases) of disease, and (2) therapeutic interventions are those that treat, mitigate, or postpone the effects of disease, once it is under way, and thus reduce the case fatality rate or reduce the disability or morbidity ...\n",
       "\n",
       "[1] Multicomponent interventions for enhancing primary care: a systematic ... Results From 37 included articles, most interventions aimed to improve access, enhance incentives for providers, provide team-based care, and introduce technologies. The most consistent improvements related to increased primary care visits and screening/preventive services, and improved patient and provider satisfaction; mixed results were found for hospital admissions, emergency department ...\n",
       "\n",
       "[2] Types of intervention and their development 2. Types of intervention. Interventions can be classified into two broad categories: (1) preventive interventions are those that prevent disease from occurring and thus reduce the incidence (new cases) of disease, and (2) therapeutic interventions are those that treat, mitigate, or postpone the effects of disease, once it is under way, and thus reduce the case fatality rate or reduce the ...\n",
       "\n",
       "[3] Types of intervention and their development 2. Types of intervention. Interventions can be classified into two broad categories: (1) preventive interventions are those that prevent disease from occurring and thus reduce the incidence (new cases) of disease, and (2) therapeutic interventions are those that treat, mitigate, or postpone the effects of disease, once it is under way, and thus reduce the case fatality rate or reduce the ...\n",
       "\n",
       "[4] The effect of an online acceptance and commitment intervention on the ... Background Hematopoietic cell transplantation (HCT) is a highly invasive and life-threatening treatment for hematological neoplasms and some types of cancer that can challenge the patient’s meaning structures. Restoring meaning (i.e., building more flexible and significant explanations of the disease and treatment burden) can be aided by strengthening psychological flexibility by means of an ...\n",
       "\n",
       "[5] What are the components of complex interventions in healthcare ... Highlights Outlines that components of complex interventions are often addressed in health services research but are poorly defined and theorized. Argues that for theory, method, transparency and wider usage of complexity approaches, components need to be better understood. Conceptualizes components using three key concepts: the intervention&#x27;s parts and its powers, and the whole of ...\n",
       "\n",
       "[6] Development of Interventions in Health Care | SpringerLink Abstract. Interventions in health services research cover a variety of goal-orientated activities, including treatments of patients, healthcare delivery models and health system reforms. The development of interventions is usually based on a mix of several ingredients, including the analysis of real-world problems and needs, previously ...\n",
       "\n",
       "[7] Guidance on how to develop complex interventions to improve health and ... Complex interventions can have a number of interacting components, require new behaviours by those delivering or receiving the intervention or have a variety of outcomes. 1 An example is a multicomponent intervention to help people stand more at work, including a height adjustable workstation, posters and coaching sessions. 2 Careful development of complex interventions is necessary so that ...\n",
       "\n",
       "[8] Full article: Complex interventions - Taylor &amp;amp; Francis Online When the model indicates that different groups may experience variations in how an intervention effects them, this provides support and justification for sub-group analyses (Anderson et al., Citation 2011; Rohwer et al., Citation 2017) and they can guide narrative or thematic synthesis by identifying important and relevant areas to focus most attention on (Kneale et al., Citation 2015).\n",
       "\n",
       "[9] 2 Types of intervention and their development - Oxford Academic Interventions can be classified into two broad categories: (1) preventive interventions are those that prevent disease from occurring and thus reduce the incidence (new cases) of disease, and (2) therapeutic interventions are those that treat, mitigate, or postpone the effects of disease, once it is under way, and thus reduce the case fatality rate or reduce the disability or morbidity ...\n",
       "\n",
       "[10] 2.2: Types of intervention - Medicine LibreTexts Page ID. Interventions can be classified into two broad categories: (1) preventive interventions are those that prevent disease from occurring and thus reduce the incidence (new cases) of disease, and (2) therapeutic interventions are those that treat, mitigate, or postpone the effects of disease, once it is under way, and thus reduce the case ...\n",
       "\n",
       "[11] 2: Types of intervention and their development - Medicine LibreTexts 2: Types of intervention and their development. This book is about the evaluation of the effectiveness of health-related interventions. We use the term ‘intervention’ to apply to any activity undertaken with the objective of improving human health by preventing disease, by curing or reducing the severity or duration of an existing disease ...\n",
       "\n",
       "[12] 2.1: Introduction to types of intervention and their development How each type of intervention is implemented is outlined, and the implications of these implementation strategies for the design, conduct, and interpretation of field trials are discussed. The nature of an intervention will determine the way in which it can be evaluated in a field trial. Some interventions which are applied to individuals can ...\n",
       "\n",
       "[13] Interventions to improve medication adherence in adults with mental ... Background Medication non-adherence is a notable contributor to healthcare inefficiency, resulting in poor medication management, impaired patient outcomes, and ineffective symptom control. Aim To summarise interventions targeting medication adherence for adults with mental–physical multimorbidity in primary healthcare settings. Design and setting A systematic review of the literature ...\n",
       "\n",
       "[14] A new framework for developing and evaluating complex interventions ... With this framing, complex interventions can helpfully be considered as events in systems. 16 Thinking about systems helps us understand the interaction between an intervention and the context in which it is implemented in a dynamic way. 22 Systems can be thought of as complex and adaptive, 23 characterised by properties such as emergence, feedback, adaptation, and self-organisation (table 1).\n",
       "\n",
       "[15] An Extremely Opinionated Annotated List of My Favourite Mechanistic ... Reverse engineering modular addition - understanding the different types of evidence and how they fit together. ... The main things I think are cool were successfully applying interpretability during training, and on the weird and fucky task of playing chess (and that models trained on non-image/language tasks are somewhat ...\n",
       "\n",
       "[16] Nursing Interventions: Definition, Types, and Examples - Nurse.org Treatment. Rehabilitation. These 4 types of nursing interventions can be carried out in many different settings, including hospitals, clinics, schools, and even patients’ homes. 1. Health Promotion Interventions. Health promotion interventions aim to improve people’s overall health and well-being and prevent injuries.\n",
       "\n",
       "[17] Guidance on how to develop complex interventions to improve health and ... Complex interventions can have a number of interacting components, require new behaviours by those delivering or receiving the intervention or have a variety of outcomes. 1 An example is a multicomponent intervention to help people stand more at work, including a height adjustable workstation, posters and coaching sessions. 2 Careful development of complex interventions is necessary so that ...\n",
       "\n",
       "[18] 2: Types of intervention and their development - Medicine LibreTexts 2.1: Introduction to types of intervention and their development This book is about the evaluation of the effectiveness of health-related interventions. We use the term ‘intervention’ to apply to any activity undertaken with the objective of improving human health by preventing disease, by curing or reducing the severity or duration of an existing disease, or by restoring function lost ...\n",
       "\n",
       "[19] Types of intervention and their development - Field Trials of Health ... 2. Types of intervention. Interventions can be classified into two broad categories: (1) preventive interventions are those that prevent disease from occurring and thus reduce the incidence (new cases) of disease, and (2) therapeutic interventions are those that treat, mitigate, or postpone the effects of disease, once it is under way, and thus reduce the case fatality rate or reduce the ...\n",
       "\n",
       "[20] 2: Types of intervention and their development - Medicine LibreTexts 2.1: Introduction to types of intervention and their development This book is about the evaluation of the effectiveness of health-related interventions. We use the term ‘intervention’ to apply to any activity undertaken with the objective of improving human health by preventing disease, by curing or reducing the severity or duration of an existing disease, or by restoring function lost ...\n",
       "\n",
       "[21] How useful is mechanistic interpretability? — LessWrong By mech interp I mean &quot;A subfield of interpretability that uses bottom-up or reverse engineering approaches, generally by corresponding low-level components such as circuits or neurons to components of human-understandable algorithms and then working upward to build an overall understanding.&quot; Neel Nanda.\n",
       "\n",
       "[22] 2.2: Types of intervention - Medicine LibreTexts Page ID. Interventions can be classified into two broad categories: (1) preventive interventions are those that prevent disease from occurring and thus reduce the incidence (new cases) of disease, and (2) therapeutic interventions are those that treat, mitigate, or postpone the effects of disease, once it is under way, and thus reduce the case ...\n",
       "\n",
       "[23] Medical Interventions 1.1 Essential Questions Flashcards A medical intervention is anything that is used to treat, prevent, cure, or relieve the symptoms which cause human suffering, whether it is caused by a disease, accident, or something as simple as hygiene. There are several categories of medical interventions. Medical interventions can range from something very simple, to something more complex.\n",
       "\n",
       "[24] 2.1: Introduction to types of intervention and their development 2.1: Introduction to types of intervention and their development. Page ID. This book is about the evaluation of the effectiveness of health-related interventions. We use the term ‘intervention’ to apply to any activity undertaken with the objective of improving ….\n",
       "\n",
       "[25] Development of Interventions in Health Care | SpringerLink Many interventions are complex: They have multiple interacting components, they relate to a high number of behaviours in those delivering or receiving the intervention, a high number of groups or organisational levels are targeted, there are many and various types of outcomes and there is flexibility or tailoring in delivering the intervention (Craig et al. 2008). Interventions of interest to ...\n",
       "\n",
       "[26] Evidence-based Psychological Interventions FOURTH EDITION working in the primary sector deliver effective, short-term therapies as the most cost-effective approach to psychological intervention. On this basis, this review included a broad range of psychological interventions selected through direction from government and identification of interventions with a large or increasing evidence base.\n",
       "\n",
       "[27] Public Health Interventions: Ethical Implications | The Oxford Handbook ... Public health interventions can be broadly categorized as falling into two main types: educational and environmental. Educational interventions aim to change individual behaviors, whereas environmental interventions seek to change the social and environmental conditions that encourage, require, or reinforce behaviors that are either beneficial or harmful to health.\n",
       "\n",
       "[28] Lesson 1: Diagnostic Intervention Flashcards | Quizlet Medical Intervention. Any measure whose purpose is to improve health or alter the course of disease. Outbreak. A sudden rise in the incidence of disease. Pathogen. A specific causative agent of a disease. Study with Quizlet and memorize flashcards containing terms like What is a medical intervention?, What are the main categories of ...\n",
       "\n",
       "[29] Mechanistic Interpretability Website Mechanistic interpretability is an exciting and rapidly evolving field that aims to uncover the inner workings of complex AI systems. Our mission is to be a hub for the latest research, resources, and community engagement around this important topic. Whether you&#x27;re a policymaker looking to understand the implications of AI, a researcher delving ...\n",
       "\n",
       "In your answer, please cite any claims you make back to each source using the format: [a], [b], etc. If you use multiple sources to make a claim cite all of them. For example: &quot;AGI is concerning [c, d, e].&quot;\n",
       "\n",
       "Q: : What are the main categories of mechinterp interventions?</div></div><div style='display: flex; border-bottom: 1px solid rgba(127, 127, 127, 0.2);  justify-content: center; align-items: center;'><div style='flex: 0 0 80px; opacity: 0.5;'>assistant</div><div style='flex-grow: 1; padding: 5px; padding-top: 10px; padding-bottom: 10px; margin-top: 0px; white-space: pre-wrap; margin-bottom: 0px;'><span style='background-color: rgba(0.0, 165.0, 0, 0.15); border-radius: 3px;' title='1.0'>The</span><span style='background-color: rgba(0.0, 165.0, 0, 0.15); border-radius: 3px;' title='1.0'> main</span><span style='background-color: rgba(0.0, 165.0, 0, 0.15); border-radius: 3px;' title='1.0'> categories</span><span style='background-color: rgba(0.0, 165.0, 0, 0.15); border-radius: 3px;' title='1.0'> of</span><span style='background-color: rgba(0.0, 165.0, 0, 0.15); border-radius: 3px;' title='1.0'> mechan</span><span style='background-color: rgba(0.0, 165.0, 0, 0.15); border-radius: 3px;' title='1.0'>istic</span><span style='background-color: rgba(0.0, 165.0, 0, 0.15); border-radius: 3px;' title='1.0'> interpret</span><span style='background-color: rgba(0.0, 165.0, 0, 0.15); border-radius: 3px;' title='1.0'>ability</span><span style='background-color: rgba(0.0, 165.0, 0, 0.15); border-radius: 3px;' title='1.0'> interventions</span><span style='background-color: rgba(0.0, 165.0, 0, 0.15); border-radius: 3px;' title='1.0'> involve</span><span style='background-color: rgba(0.0, 165.0, 0, 0.15); border-radius: 3px;' title='1.0'> using</span><span style='background-color: rgba(0.0, 165.0, 0, 0.15); border-radius: 3px;' title='1.0'> bottom</span><span style='background-color: rgba(0.0, 165.0, 0, 0.15); border-radius: 3px;' title='1.0'>-up</span><span style='background-color: rgba(0.0, 165.0, 0, 0.15); border-radius: 3px;' title='1.0'> or</span><span style='background-color: rgba(0.0, 165.0, 0, 0.15); border-radius: 3px;' title='1.0'> reverse</span><span style='background-color: rgba(0.0, 165.0, 0, 0.15); border-radius: 3px;' title='1.0'> engineering</span><span style='background-color: rgba(0.0, 165.0, 0, 0.15); border-radius: 3px;' title='1.0'> approaches</span><span style='background-color: rgba(0.0, 165.0, 0, 0.15); border-radius: 3px;' title='1.0'> to</span><span style='background-color: rgba(0.0, 165.0, 0, 0.15); border-radius: 3px;' title='1.0'> understand</span><span style='background-color: rgba(0.0, 165.0, 0, 0.15); border-radius: 3px;' title='1.0'> complex</span><span style='background-color: rgba(0.0, 165.0, 0, 0.15); border-radius: 3px;' title='1.0'> AI</span><span style='background-color: rgba(0.0, 165.0, 0, 0.15); border-radius: 3px;' title='1.0'> systems</span><span style='background-color: rgba(0.0, 165.0, 0, 0.15); border-radius: 3px;' title='1.0'>.</span><span style='background-color: rgba(0.0, 165.0, 0, 0.15); border-radius: 3px;' title='1.0'> This</span><span style='background-color: rgba(0.0, 165.0, 0, 0.15); border-radius: 3px;' title='1.0'> includes</span><span style='background-color: rgba(0.0, 165.0, 0, 0.15); border-radius: 3px;' title='1.0'> corresponding</span><span style='background-color: rgba(0.0, 165.0, 0, 0.15); border-radius: 3px;' title='1.0'> low</span><span style='background-color: rgba(0.0, 165.0, 0, 0.15); border-radius: 3px;' title='1.0'>-level</span><span style='background-color: rgba(0.0, 165.0, 0, 0.15); border-radius: 3px;' title='1.0'> components</span><span style='background-color: rgba(0.0, 165.0, 0, 0.15); border-radius: 3px;' title='1.0'> such</span><span style='background-color: rgba(0.0, 165.0, 0, 0.15); border-radius: 3px;' title='1.0'> as</span><span style='background-color: rgba(0.0, 165.0, 0, 0.15); border-radius: 3px;' title='1.0'> circuits</span><span style='background-color: rgba(0.0, 165.0, 0, 0.15); border-radius: 3px;' title='1.0'> or</span><span style='background-color: rgba(0.0, 165.0, 0, 0.15); border-radius: 3px;' title='1.0'> neurons</span><span style='background-color: rgba(0.0, 165.0, 0, 0.15); border-radius: 3px;' title='1.0'> to</span><span style='background-color: rgba(0.0, 165.0, 0, 0.15); border-radius: 3px;' title='1.0'> components</span><span style='background-color: rgba(0.0, 165.0, 0, 0.15); border-radius: 3px;' title='1.0'> of</span><span style='background-color: rgba(0.0, 165.0, 0, 0.15); border-radius: 3px;' title='1.0'> human</span><span style='background-color: rgba(0.0, 165.0, 0, 0.15); border-radius: 3px;' title='1.0'>-under</span><span style='background-color: rgba(0.0, 165.0, 0, 0.15); border-radius: 3px;' title='1.0'>stand</span><span style='background-color: rgba(0.0, 165.0, 0, 0.15); border-radius: 3px;' title='1.0'>able</span><span style='background-color: rgba(0.0, 165.0, 0, 0.15); border-radius: 3px;' title='1.0'> algorithms</span><span style='background-color: rgba(0.0, 165.0, 0, 0.15); border-radius: 3px;' title='1.0'> and</span><span style='background-color: rgba(0.0, 165.0, 0, 0.15); border-radius: 3px;' title='1.0'> then</span><span style='background-color: rgba(0.0, 165.0, 0, 0.15); border-radius: 3px;' title='1.0'> working</span><span style='background-color: rgba(0.0, 165.0, 0, 0.15); border-radius: 3px;' title='1.0'> upward</span><span style='background-color: rgba(0.0, 165.0, 0, 0.15); border-radius: 3px;' title='1.0'> to</span><span style='background-color: rgba(0.0, 165.0, 0, 0.15); border-radius: 3px;' title='1.0'> build</span><span style='background-color: rgba(0.0, 165.0, 0, 0.15); border-radius: 3px;' title='1.0'> an</span><span style='background-color: rgba(0.0, 165.0, 0, 0.15); border-radius: 3px;' title='1.0'> overall</span><span style='background-color: rgba(0.0, 165.0, 0, 0.15); border-radius: 3px;' title='1.0'> understanding</span><span style='background-color: rgba(0.0, 165.0, 0, 0.15); border-radius: 3px;' title='1.0'> [</span><span style='background-color: rgba(0.0, 165.0, 0, 0.15); border-radius: 3px;' title='1.0'>21</span><span style='background-color: rgba(0.0, 165.0, 0, 0.15); border-radius: 3px;' title='1.0'>].</span><span style='background-color: rgba(0.0, 165.0, 0, 0.15); border-radius: 3px;' title='1.0'> Mechan</span><span style='background-color: rgba(0.0, 165.0, 0, 0.15); border-radius: 3px;' title='1.0'>istic</span><span style='background-color: rgba(0.0, 165.0, 0, 0.15); border-radius: 3px;' title='1.0'> interpret</span><span style='background-color: rgba(0.0, 165.0, 0, 0.15); border-radius: 3px;' title='1.0'>ability</span><span style='background-color: rgba(0.0, 165.0, 0, 0.15); border-radius: 3px;' title='1.0'> aims</span><span style='background-color: rgba(0.0, 165.0, 0, 0.15); border-radius: 3px;' title='1.0'> to</span><span style='background-color: rgba(0.0, 165.0, 0, 0.15); border-radius: 3px;' title='1.0'> uncover</span><span style='background-color: rgba(0.0, 165.0, 0, 0.15); border-radius: 3px;' title='1.0'> the</span><span style='background-color: rgba(0.0, 165.0, 0, 0.15); border-radius: 3px;' title='1.0'> inner</span><span style='background-color: rgba(0.0, 165.0, 0, 0.15); border-radius: 3px;' title='1.0'> workings</span><span style='background-color: rgba(0.0, 165.0, 0, 0.15); border-radius: 3px;' title='1.0'> of</span><span style='background-color: rgba(0.0, 165.0, 0, 0.15); border-radius: 3px;' title='1.0'> AI</span><span style='background-color: rgba(0.0, 165.0, 0, 0.15); border-radius: 3px;' title='1.0'> systems</span><span style='background-color: rgba(0.0, 165.0, 0, 0.15); border-radius: 3px;' title='1.0'> and</span><span style='background-color: rgba(0.0, 165.0, 0, 0.15); border-radius: 3px;' title='1.0'> is</span><span style='background-color: rgba(0.0, 165.0, 0, 0.15); border-radius: 3px;' title='1.0'> a</span><span style='background-color: rgba(0.0, 165.0, 0, 0.15); border-radius: 3px;' title='1.0'> rapidly</span><span style='background-color: rgba(0.0, 165.0, 0, 0.15); border-radius: 3px;' title='1.0'> evolving</span><span style='background-color: rgba(0.0, 165.0, 0, 0.15); border-radius: 3px;' title='1.0'> field</span><span style='background-color: rgba(0.0, 165.0, 0, 0.15); border-radius: 3px;' title='1.0'> that</span><span style='background-color: rgba(0.0, 165.0, 0, 0.15); border-radius: 3px;' title='1.0'> provides</span><span style='background-color: rgba(0.0, 165.0, 0, 0.15); border-radius: 3px;' title='1.0'> insights</span><span style='background-color: rgba(0.0, 165.0, 0, 0.15); border-radius: 3px;' title='1.0'> into</span><span style='background-color: rgba(0.0, 165.0, 0, 0.15); border-radius: 3px;' title='1.0'> how</span><span style='background-color: rgba(0.0, 165.0, 0, 0.15); border-radius: 3px;' title='1.0'> these</span><span style='background-color: rgba(0.0, 165.0, 0, 0.15); border-radius: 3px;' title='1.0'> systems</span><span style='background-color: rgba(0.0, 165.0, 0, 0.15); border-radius: 3px;' title='1.0'> operate</span><span style='background-color: rgba(0.0, 165.0, 0, 0.15); border-radius: 3px;' title='1.0'> [</span><span style='background-color: rgba(0.0, 165.0, 0, 0.15); border-radius: 3px;' title='1.0'>29</span><span style='background-color: rgba(0.0, 165.0, 0, 0.15); border-radius: 3px;' title='1.0'>].</span></div></div></pre>"
      ],
      "text/plain": [
       "<guidance.models._openai.OpenAI at 0x757cc233c190>"
      ]
     },
     "execution_count": 13,
     "metadata": {},
     "output_type": "execute_result"
    }
   ],
   "source": [
    "# see make_prompt in stampy https://github.com/StampyAI/stampy-chat/blob/990c5dcad5721484c43f6297d84208614a5bf568/api/src/stampy_chat/chat.py#L245\n",
    "lm = llama2\n",
    "\n",
    "@guidance\n",
    "def do_answers(lm, query, docs, history_summary=''):\n",
    "    with system():\n",
    "        lm += \"\"\"You are a helpful assistant knowledgeable about AI Alignment and Safety. Please give a clear and coherent answer to the user\\'s questions. (written after \"Q:\") using the following sources. Each source is labeled with a letter. Feel free to use the sources in any order, and try to use multiple sources in your answers\"\"\"\n",
    "    with user():\n",
    "        for i, d in enumerate(docs):\n",
    "            lm += f\"[{i}] {d['name']} {d['content']}\\n\\n\"\n",
    "        \n",
    "        # lm += HISTORY_PROMPT\n",
    "        lm += QUESTION_PROMPT + f'Q: {history_summary}: {query}'\n",
    "    with assistant():\n",
    "        lm += gen('ans')\n",
    "    return lm\n",
    "\n",
    "r = lm + do_answers(q, docs)\n",
    "r"
   ]
  },
  {
   "cell_type": "code",
   "execution_count": 28,
   "id": "90ce9ff9",
   "metadata": {},
   "outputs": [
    {
     "data": {
      "text/html": [
       "The main categories of mechanistic interpretability interventions involve using bottom-up or reverse engineering approaches to understand complex AI systems. This includes corresponding low-level components such as circuits or neurons to components of human-understandable algorithms and then working upward to build an overall understanding [<a href=\"https://www.lesswrong.com/posts/tEPHGZAb63dfq2v8n/how-useful-is-mechanistic-interpretability\"><span title=\"How useful is mechanistic interpretability? — LessWrong:</p></p>By mech interp I mean &quot;A subfield of interpretability that uses bottom-up or reverse engineering approaches, generally by corresponding low-level components such as circuits or neurons to components of human-understandable algorithms and then working upward to build an overall understanding.&quot; Neel Nanda.\">21</span></a>, ]. Mechanistic interpretability aims to uncover the inner workings of AI systems and is a rapidly evolving field that provides insights into how these systems operate [<a href=\"https://mech-interp.pages.dev/\"><span title=\"Mechanistic Interpretability Website:</p></p>Mechanistic interpretability is an exciting and rapidly evolving field that aims to uncover the inner workings of complex AI systems. Our mission is to be a hub for the latest research, resources, and community engagement around this important topic. Whether you&#x27;re a policymaker looking to understand the implications of AI, a researcher delving ...\">29</span></a>, ].</p></p>References:</p></p><a href=\"https://bjgp.org/content/71/702/e10\">[1]</a>: Multicomponent interventions for enhancing primary care: a systematic ... - Results From 37 included articles, most interventions aimed to improve access, enhance incentives for providers, provide team-based care, and introduce technologies. The most consistent improvements related to increased primary care visits and screening/preventive services, and improved patient and provider satisfaction; mixed results were found for hospital admissions, emergency department ...</p><a href=\"https://www.ncbi.nlm.nih.gov/books/NBK305514/\">[2]</a>: Types of intervention and their development - 2. Types of intervention. Interventions can be classified into two broad categories: (1) preventive interventions are those that prevent disease from occurring and thus reduce the incidence (new cases) of disease, and (2) therapeutic interventions are those that treat, mitigate, or postpone the effects of disease, once it is under way, and thus reduce the case fatality rate or reduce the ...</p><a href=\"https://academic.oup.com/book/31771/chapter/265858245\">[9]</a>: 2 Types of intervention and their development - Oxford Academic - Interventions can be classified into two broad categories: (1) preventive interventions are those that prevent disease from occurring and thus reduce the incidence (new cases) of disease, and (2) therapeutic interventions are those that treat, mitigate, or postpone the effects of disease, once it is under way, and thus reduce the case fatality rate or reduce the disability or morbidity ...</p>"
      ],
      "text/plain": [
       "<IPython.core.display.HTML object>"
      ]
     },
     "execution_count": 28,
     "metadata": {},
     "output_type": "execute_result"
    }
   ],
   "source": [
    "# now a nice html interface with tooltips and list of refs, need to replace numbers\n",
    "ans = r['ans']\n",
    "format_ans(ans, docs)"
   ]
  },
  {
   "cell_type": "code",
   "execution_count": null,
   "id": "019f1487",
   "metadata": {},
   "outputs": [],
   "source": []
  }
 ],
 "metadata": {
  "kernelspec": {
   "display_name": "Python 3.10.4 64-bit",
   "language": "python",
   "name": "python3"
  },
  "language_info": {
   "codemirror_mode": {
    "name": "ipython",
    "version": 3
   },
   "file_extension": ".py",
   "mimetype": "text/x-python",
   "name": "python",
   "nbconvert_exporter": "python",
   "pygments_lexer": "ipython3",
   "version": "3.10.12"
  },
  "toc": {
   "base_numbering": 1,
   "nav_menu": {},
   "number_sections": true,
   "sideBar": true,
   "skip_h1_title": false,
   "title_cell": "Table of Contents",
   "title_sidebar": "Contents",
   "toc_cell": false,
   "toc_position": {},
   "toc_section_display": true,
   "toc_window_display": false
  },
  "vscode": {
   "interpreter": {
    "hash": "916dbcbb3f70747c44a77c7bcd40155683ae19c65e1c03b4aa3499c5328201f1"
   }
  }
 },
 "nbformat": 4,
 "nbformat_minor": 5
}
