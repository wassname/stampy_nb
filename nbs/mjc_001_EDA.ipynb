{
 "cells": [
  {
   "cell_type": "markdown",
   "id": "1b44551e",
   "metadata": {},
   "source": [
    "# RAG chat\n",
    "\n",
    "https://github.com/guidance-ai/guidance/blob/ae8830f69553fd658bf32e0fdb478cd9518bab9e/notebooks/art_of_prompt_design/rag.ipynb"
   ]
  },
  {
   "cell_type": "code",
   "execution_count": 1,
   "id": "198de680",
   "metadata": {
    "ExecuteTime": {
     "end_time": "2022-06-28T02:34:01.879987Z",
     "start_time": "2022-06-28T02:34:01.864103Z"
    }
   },
   "outputs": [],
   "source": [
    "# autoreload your package\n",
    "%load_ext autoreload\n",
    "%autoreload 2\n",
    "import stampy_nb\n"
   ]
  },
  {
   "cell_type": "code",
   "execution_count": 2,
   "id": "a372ed7c",
   "metadata": {
    "ExecuteTime": {
     "end_time": "2022-06-28T02:34:02.470436Z",
     "start_time": "2022-06-28T02:34:02.424826Z"
    }
   },
   "outputs": [
    {
     "name": "stderr",
     "output_type": "stream",
     "text": [
      "/media/wassname/SGIronWolf/projects5/2024/stampy_nb/stampy_nb/.venv/lib/python3.10/site-packages/tqdm/auto.py:21: TqdmWarning: IProgress not found. Please update jupyter and ipywidgets. See https://ipywidgets.readthedocs.io/en/stable/user_install.html\n",
      "  from .autonotebook import tqdm as notebook_tqdm\n"
     ]
    }
   ],
   "source": [
    "## secrets\n",
    "from dotenv import load_dotenv\n",
    "load_dotenv()  # take environment variables from .env.\n",
    "\n",
    "# import warnings\n",
    "# warnings.filterwarnings(\"ignore\", \".*does not have many workers.*\")\n",
    "\n",
    "## numeric, plotting\n",
    "import numpy as np\n",
    "import pandas as pd\n",
    "import matplotlib.pyplot as plt\n",
    "%matplotlib inline\n",
    "plt.style.use('ggplot')\n",
    "plt.rcParams['figure.figsize'] = (7.0, 4)\n",
    "\n",
    "## utils\n",
    "from pathlib import Path\n",
    "from tqdm.auto import tqdm\n",
    "import logging, os, re\n",
    "import collections, functools, itertools\n",
    "\n",
    "# logging\n",
    "from loguru import logger\n",
    "# logger.remove()\n",
    "# logger.add(os.sys.stdout, level=\"ERROR\", colorize=True, format=\"<level>{time} | {message}</level>\")\n"
   ]
  },
  {
   "cell_type": "markdown",
   "id": "e7f0dfe4",
   "metadata": {},
   "source": [
    "## Helpers"
   ]
  },
  {
   "cell_type": "markdown",
   "id": "dba707de",
   "metadata": {},
   "source": [
    "### Search and data"
   ]
  },
  {
   "cell_type": "code",
   "execution_count": 3,
   "id": "66747368",
   "metadata": {},
   "outputs": [
    {
     "name": "stdout",
     "output_type": "stream",
     "text": [
      "{'id': 'https://api.bing.microsoft.com/api/v7/#WebPages.0', 'name': '2: Types of intervention and their development - Medicine LibreTexts', 'url': 'https://med.libretexts.org/Bookshelves/Nursing/Field_Trials_of_Health_Interventions_-_A_Toolbox_(Smith_Morrow_and_Ross)/02%3A_Types_of_intervention_and_their_development', 'isFamilyFriendly': True, 'displayUrl': 'https://med.libretexts.org/Bookshelves/Nursing/Field_Trials_of_Health_<b>Interventions</b>_-_A...', 'snippet': '2.1: Introduction to <b>types</b> of <b>intervention</b> and their development This book is about the evaluation of the effectiveness of health-related <b>interventions</b>. We use the term ‘<b>intervention</b>’ to apply to any activity undertaken with the objective of improving human health by preventing disease, by curing or reducing the severity or duration of an existing disease, or by restoring function lost ...', 'deepLinks': [{'name': 'Types of Intervention', 'url': 'https://med.libretexts.org/Bookshelves/Nursing/Field_Trials_of_Health_Interventions_-_A_Toolbox_(Smith_Morrow_and_Ross)/02%3A_Types_of_intervention_and_their_development/2.02%3A_Types_of_intervention', 'snippet': 'Page ID. Interventions can be classified into two broad categories: (1) preventive interventions are those that prevent disease from occurring and thus reduce the incidence (new cases) of disease, and (2) therapeutic interventions are those that treat, mitigate, or postpone the effects of disease, once it is under way, and thus reduce the case ...'}, {'name': 'References', 'url': 'https://med.libretexts.org/Bookshelves/Nursing/Field_Trials_of_Health_Interventions_-_A_Toolbox_(Smith_Morrow_and_Ross)/02%3A_Types_of_intervention_and_their_development/2.04%3A_References', 'snippet': 'This page titled 2.4: References is shared under a CC BY-NC 4.0 license and was authored, remixed, and/or curated by Drue H. Barrett, Angus Dawson, Leonard W. Ortmann (Oxford University Press) via source content that was edited to the style and standards of the LibreTexts platform; a detailed edit history is available upon request.'}], 'dateLastCrawled': '2024-06-16T13:19:00.0000000Z', 'cachedPageUrl': 'http://cc.bingj.com/cache.aspx?q=What+are+the+main+categories+of+mechinterp+interventions%3f&d=4936283637947965&mkt=en-AU&setlang=en-GB&w=sJL0ODffWgbEwzc-da-HiKcQTd_gqvo7', 'language': 'en', 'isNavigational': True, 'noCache': False, 'content': '2.1: Introduction to types of intervention and their development This book is about the evaluation of the effectiveness of health-related interventions. We use the term ‘intervention’ to apply to any activity undertaken with the objective of improving human health by preventing disease, by curing or reducing the severity or duration of an existing disease, or by restoring function lost ...'}\n"
     ]
    }
   ],
   "source": [
    "import os\n",
    "import diskcache\n",
    "import pathlib\n",
    "import requests\n",
    "import html\n",
    "from urllib.parse import urlparse\n",
    "import urllib.parse\n",
    "import io\n",
    "import html\n",
    "import html.parser\n",
    "\n",
    "curr_dir = './'\n",
    "_bing_cache = diskcache.Cache(f\"{curr_dir}/../bing.diskcache\")\n",
    "\n",
    "\n",
    "BING_SEARCH_KEY = os.environ['BING_SEARCH_KEY']\n",
    "\n",
    "class MLStripper(html.parser.HTMLParser):\n",
    "    def __init__(self):\n",
    "        super().__init__()\n",
    "        self.reset()\n",
    "        self.strict = False\n",
    "        self.convert_charrefs = True\n",
    "        self.text = io.StringIO()\n",
    "    def handle_data(self, d):\n",
    "        self.text.write(d)\n",
    "    def get_data(self):\n",
    "        return self.text.getvalue()\n",
    "\n",
    "def strip_tags(html):\n",
    "    s = MLStripper()\n",
    "    s.feed(html)\n",
    "    return s.get_data()\n",
    "\n",
    "def bing_search(search_terms, count=10):\n",
    "    if type(search_terms) == str:\n",
    "        search_terms = [search_terms]\n",
    "    search_url = \"https://api.bing.microsoft.com/v7.0/search\"\n",
    "\n",
    "    headers = {\"Ocp-Apim-Subscription-Key\": BING_SEARCH_KEY}\n",
    "    search_results = []\n",
    "    for search_term in search_terms:\n",
    "        params = {\"q\": search_term, \"textDecorations\": True, \"textFormat\": \"HTML\", \"cout\": count}\n",
    "        params_key = search_term + \"-___-\" + str(count)\n",
    "        if params_key not in _bing_cache or \"webPages\" not in _bing_cache[params_key]:\n",
    "            response = requests.get(search_url, headers=headers, params=params)\n",
    "            response.raise_for_status()\n",
    "            _bing_cache[params_key] = response.json()\n",
    "        if \"webPages\" not in _bing_cache[params_key]:\n",
    "            # no results\n",
    "            logger.warning(\"No results found for %s\", search_term)\n",
    "            continue\n",
    "        data = _bing_cache[params_key][\"webPages\"][\"value\"]\n",
    "        for r in data:\n",
    "            r[\"content\"] = strip_tags(r[\"snippet\"])\n",
    "        search_results.extend(data)\n",
    "    return search_results\n",
    "    return [format_snippet(s) for s in search_results]\n",
    "\n",
    "def top_snippets(query, n=3):\n",
    "    results = bing_search(query, count=n)[:n]\n",
    "    return [{'title': x['name'], 'snippet': x['content']} for x in results]\n",
    "\n",
    "def format_snippet(s):\n",
    "    return f\"\"\"url: {s['url']}\\ntitle: {s['name']}\\nextrat: {s['snippet']}\"\"\".strip()\n",
    "\n",
    "q = \"What are the main categories of mechinterp interventions?\"\n",
    "print(bing_search(q)[0])"
   ]
  },
  {
   "cell_type": "code",
   "execution_count": 4,
   "id": "54a03c3a",
   "metadata": {},
   "outputs": [],
   "source": [
    "# from datasets import load_dataset\n",
    "# data = load_dataset('StampyAI/alignment-research-dataset', trust_remote_code=True)\n",
    "# # TODO also search google and bing https://python.langchain.com/v0.2/docs/integrations/tools/search_tools/\n",
    "# data"
   ]
  },
  {
   "cell_type": "markdown",
   "id": "1fe4cbe7",
   "metadata": {},
   "source": [
    "### Prompts"
   ]
  },
  {
   "cell_type": "code",
   "execution_count": 5,
   "id": "76cdae9b",
   "metadata": {},
   "outputs": [],
   "source": [
    "# https://github.com/StampyAI/stampy-chat/blob/main/api/src/stampy_chat/settings.py\n",
    "\n",
    "SOURCE_PROMPT = (\n",
    "    \"You are a helpful assistant knowledgeable about AI Alignment and Safety. \"\n",
    "    \"Please give a clear and coherent answer to the user's questions. (written after \\\"Q:\\\") \"\n",
    "    \"using the following sources. Each source is labeled with a letter. Feel free to \"\n",
    "    \"use the sources in any order, and try to use multiple sources in your answers.\\n\\n\"\n",
    ")\n",
    "HISTORY_PROMPT = (\n",
    "    \"\\n\\n\"\n",
    "    \"Before the question (\\\"Q: \\\"), there will be a history of previous questions and answers. \"\n",
    "    \"These sources only apply to the last question. Any sources used in previous answers \"\n",
    "    \"are invalid.\"\n",
    ")\n",
    "HISTORY_SUMMARIZE_PROMPT = (\n",
    "    \"You are a helpful assistant knowledgeable about AI Alignment and Safety. \"\n",
    "    \"Please summarize the following chat history (written after \\\"H:\\\") in one \"\n",
    "    \"sentence so as to put the current questions (written after \\\"Q:\\\") in context. \"\n",
    "    \"Please keep things as terse as possible.\"\n",
    "    \"\\nH:\"\n",
    ")\n",
    "\n",
    "QUESTION_PROMPT = (\n",
    "    \"In your answer, please cite any claims you make back to each source \"\n",
    "    \"using the format: [a], [b], etc. If you use multiple sources to make a claim \"\n",
    "    \"cite all of them. For example: \\\"AGI is concerning [c, d, e].\\\"\\n\\n\"\n",
    ")\n",
    "PROMPT_MODES = {\n",
    "    'default': \"\",\n",
    "    \"concise\": (\n",
    "        \"Answer very concisely, getting to the crux of the matter in as \"\n",
    "        \"few words as possible. Limit your answer to 1-2 sentences.\\n\\n\"\n",
    "    ),\n",
    "    \"rookie\": (\n",
    "        \"This user is new to the field of AI Alignment and Safety - don't \"\n",
    "        \"assume they know any technical terms or jargon. Still give a complete answer \"\n",
    "        \"without patronizing the user, but take any extra time needed to \"\n",
    "        \"explain new concepts or to illustrate your answer with examples. \"\n",
    "        \"Put extra effort into explaining the intuition behind concepts \"\n",
    "        \"rather than just giving a formal definition.\\n\\n\"\n",
    "    ),\n",
    "    \"discord\": (\n",
    "        \"Your answer will be used in a Discord channel, so please Answer concisely, getting to \"\n",
    "        \"the crux of the matter in as few words as possible. Limit your answer to 1-2 paragraphs.\\n\\n\"\n",
    "    ),\n",
    "}\n",
    "DEFAULT_PROMPTS = {\n",
    "    'context': SOURCE_PROMPT,\n",
    "    'history': HISTORY_PROMPT,\n",
    "    'history_summary': HISTORY_SUMMARIZE_PROMPT,\n",
    "    'question': QUESTION_PROMPT,\n",
    "    'modes': PROMPT_MODES,\n",
    "}"
   ]
  },
  {
   "cell_type": "code",
   "execution_count": null,
   "id": "cf68aad2",
   "metadata": {},
   "outputs": [],
   "source": []
  },
  {
   "cell_type": "code",
   "execution_count": 6,
   "id": "a5657196",
   "metadata": {},
   "outputs": [
    {
     "name": "stderr",
     "output_type": "stream",
     "text": [
      "\u001b[32m2024-06-22 13:29:25.453\u001b[0m | \u001b[1mINFO    \u001b[0m | \u001b[36m__main__\u001b[0m:\u001b[36m<module>\u001b[0m:\u001b[36m12\u001b[0m - \u001b[1mtest\u001b[0m\n"
     ]
    }
   ],
   "source": [
    "import random\n",
    "import guidance\n",
    "from guidance import models, gen, select, substring, string, prefix_tree, regex, user, assistant, system\n",
    "from guidance import silent, capture, Tool, one_or_more, any_char, commit_point\n",
    "\n",
    "# llama2 = models.LlamaCpp(\"/home/marcotcr_google_com/work/models/llama-2-13b-chat.Q6_K.gguf\", n_gpu_layers=-1, n_ctx=4096)\n",
    "llama2 = models.OpenAI(\"gpt-4o\")\n",
    "\n",
    "import sys\n",
    "# logger.add(sys.stderr, format=\"{time} {level} {message}\", level=\"INFO\", colorize=True)\n",
    "# logger.add(sys.stdout, colorize=True, format=\"<green>{time}</green> <level>{message}</level>\")\n",
    "logger.info(\"test\")"
   ]
  },
  {
   "cell_type": "code",
   "execution_count": 16,
   "id": "0b0bc227",
   "metadata": {},
   "outputs": [],
   "source": [
    "def format_snippets(snippets, start=1):\n",
    "    ret = ''\n",
    "    for i, s in enumerate(snippets, start=start):\n",
    "        title = s['title']\n",
    "        snippet = s['snippet']\n",
    "        ret += f'[{i}] {title}\\n'\n",
    "        ret += f'{snippet}\\n\\n'\n",
    "    return ret\n",
    "\n",
    "@guidance\n",
    "def search(lm, query):\n",
    "    # Setting this for later use\n",
    "    lm = lm.set('query', query)\n",
    "    # This is where search actually gets called\n",
    "    lm = lm.set('snippets', format_snippets(top_snippets(query)))\n",
    "    lm += '\\nObservation:\\n' + lm['snippets']\n",
    "    return lm\n",
    "\n",
    "@guidance\n",
    "def rephrase(lm, \n",
    "    query: str = \"What is the main category of mechinterp interventions?\"\n",
    "):\n",
    "    with silent():\n",
    "        with system():\n",
    "            lm += '''\n",
    "            '''\n",
    "        with user():\n",
    "            # lm += f\"Please rephrase the search query below using differen't common synonyms, alternate keywords, and changed phrasing that will help locate documents that address the following inquiry: \\\"{query}\\\"\"\n",
    "            # lm += f\"Please draft an academic search query from the following search \\\"{query}\\\"\"\n",
    "            lm += f\"Please draft an academic search query with synonyms and alternative phrases that will find documents to answer the following question: \\\"{query}\\\". Return only the search and no commentary.\"\n",
    "        with assistant():\n",
    "            lm += gen('q_rephrased')\n",
    "    return lm\n",
    "\n",
    "\n",
    "@guidance\n",
    "def example_answer(lm,\n",
    "                    query: str = \"What is the main category of mechinterp interventions?\"\n",
    "                    ):\n",
    "    with silent():\n",
    "        with system():\n",
    "            lm += '''\n",
    "            '''\n",
    "        with user():\n",
    "            lm += f\"Please draft a concrete and concise example answer that ties together all elements of the following question in a paragraph or less: {query}\"\n",
    "        with assistant():\n",
    "            lm += gen('q_example_ans')    \n",
    "    return lm"
   ]
  },
  {
   "cell_type": "markdown",
   "id": "deee4ac8",
   "metadata": {},
   "source": [
    "### Run"
   ]
  },
  {
   "cell_type": "code",
   "execution_count": 17,
   "id": "8bc27bcf",
   "metadata": {},
   "outputs": [],
   "source": [
    "import re\n",
    "import html\n",
    "import markdown2\n",
    "markdowner = markdown2.Markdown()\n",
    "from IPython.core.display import HTML\n",
    "\n",
    "def format_ans(ans, docs):\n",
    "\n",
    "    # convert llm markdown to html\n",
    "    ans = html.escape(ans)\n",
    "    ans = markdowner.convert(ans)\n",
    "    text2 = '<h3>Anwser</h3>' + ans\n",
    "\n",
    "    # convert [1], [1,3] etc to references with tooltips\n",
    "    pattern = r'\\[\\s*((?:\\d+\\s*(?:,\\s*\\d+\\s*)*)?)\\]'\n",
    "    matches = re.finditer(pattern, text2)\n",
    "    # do it in reverse to we preserve the earlier match indices\n",
    "    matches = list(reversed(list(matches)))\n",
    "    for match in matches:\n",
    "        m = match.group().strip('[]')\n",
    "        ns = m.strip(', ').split(', ')\n",
    "        m2 = ''\n",
    "        for n in ns:\n",
    "            d = docs[int(n)]\n",
    "            tooltip = html.escape(f\"{d['name']}:\\n\\n{d['content']}\").strip()\n",
    "            m2 += f'<a href=\"{d[\"url\"]}\"><span title=\"{tooltip}\">{n}</span></a>, '\n",
    "        m2 = '['+m2.rstrip(', ')+']'\n",
    "        s0, s1 = match.start(), match.end()\n",
    "        text2 = text2[:s0] + m2 + text2[s1:]\n",
    "\n",
    "    # turn out re matches into a list of integers for used references\n",
    "    refs = [m.group().strip('[]').strip().split(', ') for m in matches]\n",
    "    refs = [int(m) for m in itertools.chain(*refs)]\n",
    "    refs = sorted(set(refs))\n",
    "\n",
    "    # html list references\n",
    "    text2 += \"<p/><p/><h3>References:</h3><p/>\"\n",
    "    for r in refs:\n",
    "        d = docs[int(r)]\n",
    "        tooltip = html.escape(f\"{d['name']}:\\n\\n{d['content']}\")\n",
    "        text2 += f'- <a href=\"{d[\"url\"]}\">[{r}]</a>: {html.escape(d[\"name\"])} - {html.escape(d[\"content\"])}<p/>'\n",
    "\n",
    "    # print('text', text)\n",
    "\n",
    "\n",
    "\n",
    "    # print('='*80,'\\n',text2)\n",
    "    # print('='*80)\n",
    "    return HTML(text2)\n",
    "\n",
    "# ans = \"\"\"Mechanistic interpretability (mechinterp) interventions can be broadly categorized into several types, each focusing on different aspects of understanding and explaining AI models. Here are the main categories:\n",
    "\n",
    "# 1. **Post-Hoc Interpretability Techniques**: [1, 2, 3] These techniques are applied after the model has been trained to gain insights into its behavior and decision-making processes. They include efforts to uncover general,[2, 11] transferable principles across models and tasks, as well as automating the discovery and interpretation of critical circuits in trained models [11].\"\"\"\n",
    "# format_ans(ans, docs)"
   ]
  },
  {
   "cell_type": "markdown",
   "id": "2830fe96",
   "metadata": {},
   "source": []
  },
  {
   "cell_type": "code",
   "execution_count": 18,
   "id": "42ae81ca",
   "metadata": {},
   "outputs": [
    {
     "data": {
      "text/html": [
       "<pre style='margin: 0px; padding: 0px; vertical-align: middle; padding-left: 8px; margin-left: -8px; border-radius: 0px; border-left: 1px solid rgba(127, 127, 127, 0.2); white-space: pre-wrap; font-family: ColfaxAI, Arial; font-size: 15px; line-height: 23px;'><div style='display: inline-block; cursor: pointer; opacity: 0.5; width: 2px; margin-left: -2px;' onClick='this.nextSibling.style.display = \"inline\"; this.style.display = \"none\"'>&caron;</div><div style='display: none;'><div style='display: flex; border-bottom: 1px solid rgba(127, 127, 127, 0.2);  justify-content: center; align-items: center;'><div style='flex: 0 0 80px; opacity: 0.5;'>system</div><div style='flex-grow: 1; padding: 5px; padding-top: 10px; padding-bottom: 10px; margin-top: 0px; white-space: pre-wrap; margin-bottom: 0px;'>\n",
       "</div></div><div style='display: flex; border-bottom: 1px solid rgba(127, 127, 127, 0.2);  justify-content: center; align-items: center;'><div style='flex: 0 0 80px; opacity: 0.5;'>user</div><div style='flex-grow: 1; padding: 5px; padding-top: 10px; padding-bottom: 10px; margin-top: 0px; white-space: pre-wrap; margin-bottom: 0px;'>Please draft a concrete and concise example answer that ties together all elements of the following question in a paragraph or less: What are the main categories of mechinterp interventions?</div></div><div style='display: flex; border-bottom: 1px solid rgba(127, 127, 127, 0.2);  justify-content: center; align-items: center;'><div style='flex: 0 0 80px; opacity: 0.5;'>assistant</div><div style='flex-grow: 1; padding: 5px; padding-top: 10px; padding-bottom: 10px; margin-top: 0px; white-space: pre-wrap; margin-bottom: 0px;'><span style='background-color: rgba(0.0, 165.0, 0, 0.15); border-radius: 3px;' title='1.0'>The</span><span style='background-color: rgba(0.0, 165.0, 0, 0.15); border-radius: 3px;' title='1.0'> main</span><span style='background-color: rgba(0.0, 165.0, 0, 0.15); border-radius: 3px;' title='1.0'> categories</span><span style='background-color: rgba(0.0, 165.0, 0, 0.15); border-radius: 3px;' title='1.0'> of</span><span style='background-color: rgba(0.0, 165.0, 0, 0.15); border-radius: 3px;' title='1.0'> mechan</span><span style='background-color: rgba(0.0, 165.0, 0, 0.15); border-radius: 3px;' title='1.0'>istic</span><span style='background-color: rgba(0.0, 165.0, 0, 0.15); border-radius: 3px;' title='1.0'> interpreta</span><span style='background-color: rgba(0.0, 165.0, 0, 0.15); border-radius: 3px;' title='1.0'>bil</span><span style='background-color: rgba(0.0, 165.0, 0, 0.15); border-radius: 3px;' title='1.0'>ity</span><span style='background-color: rgba(0.0, 165.0, 0, 0.15); border-radius: 3px;' title='1.0'> (</span><span style='background-color: rgba(0.0, 165.0, 0, 0.15); border-radius: 3px;' title='1.0'>me</span><span style='background-color: rgba(0.0, 165.0, 0, 0.15); border-radius: 3px;' title='1.0'>chin</span><span style='background-color: rgba(0.0, 165.0, 0, 0.15); border-radius: 3px;' title='1.0'>ter</span><span style='background-color: rgba(0.0, 165.0, 0, 0.15); border-radius: 3px;' title='1.0'>p</span><span style='background-color: rgba(0.0, 165.0, 0, 0.15); border-radius: 3px;' title='1.0'>)</span><span style='background-color: rgba(0.0, 165.0, 0, 0.15); border-radius: 3px;' title='1.0'> interventions</span><span style='background-color: rgba(0.0, 165.0, 0, 0.15); border-radius: 3px;' title='1.0'> include</span><span style='background-color: rgba(0.0, 165.0, 0, 0.15); border-radius: 3px;' title='1.0'> activation</span><span style='background-color: rgba(0.0, 165.0, 0, 0.15); border-radius: 3px;' title='1.0'> patch</span><span style='background-color: rgba(0.0, 165.0, 0, 0.15); border-radius: 3px;' title='1.0'>ing</span><span style='background-color: rgba(0.0, 165.0, 0, 0.15); border-radius: 3px;' title='1.0'>,</span><span style='background-color: rgba(0.0, 165.0, 0, 0.15); border-radius: 3px;' title='1.0'> path</span><span style='background-color: rgba(0.0, 165.0, 0, 0.15); border-radius: 3px;' title='1.0'> patch</span><span style='background-color: rgba(0.0, 165.0, 0, 0.15); border-radius: 3px;' title='1.0'>ing</span><span style='background-color: rgba(0.0, 165.0, 0, 0.15); border-radius: 3px;' title='1.0'>,</span><span style='background-color: rgba(0.0, 165.0, 0, 0.15); border-radius: 3px;' title='1.0'> and</span><span style='background-color: rgba(0.0, 165.0, 0, 0.15); border-radius: 3px;' title='1.0'> model</span><span style='background-color: rgba(0.0, 165.0, 0, 0.15); border-radius: 3px;' title='1.0'> editing</span><span style='background-color: rgba(0.0, 165.0, 0, 0.15); border-radius: 3px;' title='1.0'>.</span><span style='background-color: rgba(0.0, 165.0, 0, 0.15); border-radius: 3px;' title='1.0'> Activation</span><span style='background-color: rgba(0.0, 165.0, 0, 0.15); border-radius: 3px;' title='1.0'> patch</span><span style='background-color: rgba(0.0, 165.0, 0, 0.15); border-radius: 3px;' title='1.0'>ing</span><span style='background-color: rgba(0.0, 165.0, 0, 0.15); border-radius: 3px;' title='1.0'> involves</span><span style='background-color: rgba(0.0, 165.0, 0, 0.15); border-radius: 3px;' title='1.0'> modifying</span><span style='background-color: rgba(0.0, 165.0, 0, 0.15); border-radius: 3px;' title='1.0'> the</span><span style='background-color: rgba(0.0, 165.0, 0, 0.15); border-radius: 3px;' title='1.0'> activation</span><span style='background-color: rgba(0.0, 165.0, 0, 0.15); border-radius: 3px;' title='1.0'>s</span><span style='background-color: rgba(0.0, 165.0, 0, 0.15); border-radius: 3px;' title='1.0'> of</span><span style='background-color: rgba(0.0, 165.0, 0, 0.15); border-radius: 3px;' title='1.0'> specific</span><span style='background-color: rgba(0.0, 165.0, 0, 0.15); border-radius: 3px;' title='1.0'> neurons</span><span style='background-color: rgba(0.0, 165.0, 0, 0.15); border-radius: 3px;' title='1.0'> or</span><span style='background-color: rgba(0.0, 165.0, 0, 0.15); border-radius: 3px;' title='1.0'> layers</span><span style='background-color: rgba(0.0, 165.0, 0, 0.15); border-radius: 3px;' title='1.0'> to</span><span style='background-color: rgba(0.0, 165.0, 0, 0.15); border-radius: 3px;' title='1.0'> observe</span><span style='background-color: rgba(0.0, 165.0, 0, 0.15); border-radius: 3px;' title='1.0'> changes</span><span style='background-color: rgba(0.0, 165.0, 0, 0.15); border-radius: 3px;' title='1.0'> in</span><span style='background-color: rgba(0.0, 165.0, 0, 0.15); border-radius: 3px;' title='1.0'> model</span><span style='background-color: rgba(0.0, 165.0, 0, 0.15); border-radius: 3px;' title='1.0'> behavior</span><span style='background-color: rgba(0.0, 165.0, 0, 0.15); border-radius: 3px;' title='1.0'>,</span><span style='background-color: rgba(0.0, 165.0, 0, 0.15); border-radius: 3px;' title='1.0'> helping</span><span style='background-color: rgba(0.0, 165.0, 0, 0.15); border-radius: 3px;' title='1.0'> to</span><span style='background-color: rgba(0.0, 165.0, 0, 0.15); border-radius: 3px;' title='1.0'> identify</span><span style='background-color: rgba(0.0, 165.0, 0, 0.15); border-radius: 3px;' title='1.0'> the</span><span style='background-color: rgba(0.0, 165.0, 0, 0.15); border-radius: 3px;' title='1.0'> roles</span><span style='background-color: rgba(0.0, 165.0, 0, 0.15); border-radius: 3px;' title='1.0'> of</span><span style='background-color: rgba(0.0, 165.0, 0, 0.15); border-radius: 3px;' title='1.0'> individual</span><span style='background-color: rgba(0.0, 165.0, 0, 0.15); border-radius: 3px;' title='1.0'> components</span><span style='background-color: rgba(0.0, 165.0, 0, 0.15); border-radius: 3px;' title='1.0'>.</span><span style='background-color: rgba(0.0, 165.0, 0, 0.15); border-radius: 3px;' title='1.0'> Path</span><span style='background-color: rgba(0.0, 165.0, 0, 0.15); border-radius: 3px;' title='1.0'> patch</span><span style='background-color: rgba(0.0, 165.0, 0, 0.15); border-radius: 3px;' title='1.0'>ing</span><span style='background-color: rgba(0.0, 165.0, 0, 0.15); border-radius: 3px;' title='1.0'> focuses</span><span style='background-color: rgba(0.0, 165.0, 0, 0.15); border-radius: 3px;' title='1.0'> on</span><span style='background-color: rgba(0.0, 165.0, 0, 0.15); border-radius: 3px;' title='1.0'> altering</span><span style='background-color: rgba(0.0, 165.0, 0, 0.15); border-radius: 3px;' title='1.0'> the</span><span style='background-color: rgba(0.0, 165.0, 0, 0.15); border-radius: 3px;' title='1.0'> flow</span><span style='background-color: rgba(0.0, 165.0, 0, 0.15); border-radius: 3px;' title='1.0'> of</span><span style='background-color: rgba(0.0, 165.0, 0, 0.15); border-radius: 3px;' title='1.0'> information</span><span style='background-color: rgba(0.0, 165.0, 0, 0.15); border-radius: 3px;' title='1.0'> along</span><span style='background-color: rgba(0.0, 165.0, 0, 0.15); border-radius: 3px;' title='1.0'> specific</span><span style='background-color: rgba(0.0, 165.0, 0, 0.15); border-radius: 3px;' title='1.0'> paths</span><span style='background-color: rgba(0.0, 165.0, 0, 0.15); border-radius: 3px;' title='1.0'> within</span><span style='background-color: rgba(0.0, 165.0, 0, 0.15); border-radius: 3px;' title='1.0'> the</span><span style='background-color: rgba(0.0, 165.0, 0, 0.15); border-radius: 3px;' title='1.0'> network</span><span style='background-color: rgba(0.0, 165.0, 0, 0.15); border-radius: 3px;' title='1.0'>,</span><span style='background-color: rgba(0.0, 165.0, 0, 0.15); border-radius: 3px;' title='1.0'> which</span><span style='background-color: rgba(0.0, 165.0, 0, 0.15); border-radius: 3px;' title='1.0'> aids</span><span style='background-color: rgba(0.0, 165.0, 0, 0.15); border-radius: 3px;' title='1.0'> in</span><span style='background-color: rgba(0.0, 165.0, 0, 0.15); border-radius: 3px;' title='1.0'> understanding</span><span style='background-color: rgba(0.0, 165.0, 0, 0.15); border-radius: 3px;' title='1.0'> how</span><span style='background-color: rgba(0.0, 165.0, 0, 0.15); border-radius: 3px;' title='1.0'> different</span><span style='background-color: rgba(0.0, 165.0, 0, 0.15); border-radius: 3px;' title='1.0'> pathways</span><span style='background-color: rgba(0.0, 165.0, 0, 0.15); border-radius: 3px;' title='1.0'> contribute</span><span style='background-color: rgba(0.0, 165.0, 0, 0.15); border-radius: 3px;' title='1.0'> to</span><span style='background-color: rgba(0.0, 165.0, 0, 0.15); border-radius: 3px;' title='1.0'> the</span><span style='background-color: rgba(0.0, 165.0, 0, 0.15); border-radius: 3px;' title='1.0'> model</span><span style='background-color: rgba(0.0, 165.0, 0, 0.15); border-radius: 3px;' title='1.0'>&#x27;s</span><span style='background-color: rgba(0.0, 165.0, 0, 0.15); border-radius: 3px;' title='1.0'> decisions</span><span style='background-color: rgba(0.0, 165.0, 0, 0.15); border-radius: 3px;' title='1.0'>.</span><span style='background-color: rgba(0.0, 165.0, 0, 0.15); border-radius: 3px;' title='1.0'> Model</span><span style='background-color: rgba(0.0, 165.0, 0, 0.15); border-radius: 3px;' title='1.0'> editing</span><span style='background-color: rgba(0.0, 165.0, 0, 0.15); border-radius: 3px;' title='1.0'> encompasses</span><span style='background-color: rgba(0.0, 165.0, 0, 0.15); border-radius: 3px;' title='1.0'> direct</span><span style='background-color: rgba(0.0, 165.0, 0, 0.15); border-radius: 3px;' title='1.0'> modifications</span><span style='background-color: rgba(0.0, 165.0, 0, 0.15); border-radius: 3px;' title='1.0'> to</span><span style='background-color: rgba(0.0, 165.0, 0, 0.15); border-radius: 3px;' title='1.0'> the</span><span style='background-color: rgba(0.0, 165.0, 0, 0.15); border-radius: 3px;' title='1.0'> model</span><span style='background-color: rgba(0.0, 165.0, 0, 0.15); border-radius: 3px;' title='1.0'>&#x27;s</span><span style='background-color: rgba(0.0, 165.0, 0, 0.15); border-radius: 3px;' title='1.0'> parameters</span><span style='background-color: rgba(0.0, 165.0, 0, 0.15); border-radius: 3px;' title='1.0'> or</span><span style='background-color: rgba(0.0, 165.0, 0, 0.15); border-radius: 3px;' title='1.0'> architecture</span><span style='background-color: rgba(0.0, 165.0, 0, 0.15); border-radius: 3px;' title='1.0'> to</span><span style='background-color: rgba(0.0, 165.0, 0, 0.15); border-radius: 3px;' title='1.0'> test</span><span style='background-color: rgba(0.0, 165.0, 0, 0.15); border-radius: 3px;' title='1.0'> hypotheses</span><span style='background-color: rgba(0.0, 165.0, 0, 0.15); border-radius: 3px;' title='1.0'> about</span><span style='background-color: rgba(0.0, 165.0, 0, 0.15); border-radius: 3px;' title='1.0'> its</span><span style='background-color: rgba(0.0, 165.0, 0, 0.15); border-radius: 3px;' title='1.0'> functioning</span><span style='background-color: rgba(0.0, 165.0, 0, 0.15); border-radius: 3px;' title='1.0'>,</span><span style='background-color: rgba(0.0, 165.0, 0, 0.15); border-radius: 3px;' title='1.0'> providing</span><span style='background-color: rgba(0.0, 165.0, 0, 0.15); border-radius: 3px;' title='1.0'> insights</span><span style='background-color: rgba(0.0, 165.0, 0, 0.15); border-radius: 3px;' title='1.0'> into</span><span style='background-color: rgba(0.0, 165.0, 0, 0.15); border-radius: 3px;' title='1.0'> the</span><span style='background-color: rgba(0.0, 165.0, 0, 0.15); border-radius: 3px;' title='1.0'> causal</span><span style='background-color: rgba(0.0, 165.0, 0, 0.15); border-radius: 3px;' title='1.0'> relationships</span><span style='background-color: rgba(0.0, 165.0, 0, 0.15); border-radius: 3px;' title='1.0'> within</span><span style='background-color: rgba(0.0, 165.0, 0, 0.15); border-radius: 3px;' title='1.0'> the</span><span style='background-color: rgba(0.0, 165.0, 0, 0.15); border-radius: 3px;' title='1.0'> network</span><span style='background-color: rgba(0.0, 165.0, 0, 0.15); border-radius: 3px;' title='1.0'>.</span><span style='background-color: rgba(0.0, 165.0, 0, 0.15); border-radius: 3px;' title='1.0'> Together</span><span style='background-color: rgba(0.0, 165.0, 0, 0.15); border-radius: 3px;' title='1.0'>,</span><span style='background-color: rgba(0.0, 165.0, 0, 0.15); border-radius: 3px;' title='1.0'> these</span><span style='background-color: rgba(0.0, 165.0, 0, 0.15); border-radius: 3px;' title='1.0'> interventions</span><span style='background-color: rgba(0.0, 165.0, 0, 0.15); border-radius: 3px;' title='1.0'> offer</span><span style='background-color: rgba(0.0, 165.0, 0, 0.15); border-radius: 3px;' title='1.0'> a</span><span style='background-color: rgba(0.0, 165.0, 0, 0.15); border-radius: 3px;' title='1.0'> comprehensive</span><span style='background-color: rgba(0.0, 165.0, 0, 0.15); border-radius: 3px;' title='1.0'> toolkit</span><span style='background-color: rgba(0.0, 165.0, 0, 0.15); border-radius: 3px;' title='1.0'> for</span><span style='background-color: rgba(0.0, 165.0, 0, 0.15); border-radius: 3px;' title='1.0'> dissect</span><span style='background-color: rgba(0.0, 165.0, 0, 0.15); border-radius: 3px;' title='1.0'>ing</span><span style='background-color: rgba(0.0, 165.0, 0, 0.15); border-radius: 3px;' title='1.0'> and</span><span style='background-color: rgba(0.0, 165.0, 0, 0.15); border-radius: 3px;' title='1.0'> understanding</span><span style='background-color: rgba(0.0, 165.0, 0, 0.15); border-radius: 3px;' title='1.0'> the</span><span style='background-color: rgba(0.0, 165.0, 0, 0.15); border-radius: 3px;' title='1.0'> inner</span><span style='background-color: rgba(0.0, 165.0, 0, 0.15); border-radius: 3px;' title='1.0'> workings</span><span style='background-color: rgba(0.0, 165.0, 0, 0.15); border-radius: 3px;' title='1.0'> of</span><span style='background-color: rgba(0.0, 165.0, 0, 0.15); border-radius: 3px;' title='1.0'> complex</span><span style='background-color: rgba(0.0, 165.0, 0, 0.15); border-radius: 3px;' title='1.0'> machine</span><span style='background-color: rgba(0.0, 165.0, 0, 0.15); border-radius: 3px;' title='1.0'> learning</span><span style='background-color: rgba(0.0, 165.0, 0, 0.15); border-radius: 3px;' title='1.0'> models</span><span style='background-color: rgba(0.0, 165.0, 0, 0.15); border-radius: 3px;' title='1.0'>.</span></div></div></div></pre>"
      ],
      "text/plain": [
       "<IPython.core.display.HTML object>"
      ]
     },
     "metadata": {},
     "output_type": "display_data"
    },
    {
     "name": "stderr",
     "output_type": "stream",
     "text": [
      "\u001b[32m2024-06-22 13:30:13.755\u001b[0m | \u001b[1mINFO    \u001b[0m | \u001b[36m__main__\u001b[0m:\u001b[36m<module>\u001b[0m:\u001b[36m17\u001b[0m - \u001b[1mExample answer: The main categories of mechanistic interpretability (mechinterp) interventions include activation patching, path patching, and model editing. Activation patching involves modifying the activations of specific neurons or layers to observe changes in model behavior, helping to identify the roles of individual components. Path patching focuses on altering the flow of information along specific paths within the network, which aids in understanding how different pathways contribute to the model's decisions. Model editing encompasses direct modifications to the model's parameters or architecture to test hypotheses about its functioning, providing insights into the causal relationships within the network. Together, these interventions offer a comprehensive toolkit for dissecting and understanding the inner workings of complex machine learning models.\u001b[0m\n"
     ]
    }
   ],
   "source": [
    "# Step 1 search\n",
    "lm = llama2\n",
    "q = \"What are the main categories of mechinterp interventions?\"\n",
    "\n",
    "\n",
    "# Step 2 rephrase and example answers\n",
    "docs = []\n",
    "docs1 = bing_search(q)\n",
    "\n",
    "q_rephrased = lm + rephrase(q)\n",
    "q_rephrased = q_rephrased['q_rephrased'].strip('\"\\' ')\n",
    "logger.info(f\"Rephrased query: {q_rephrased}\")\n",
    "docs2 = bing_search(q_rephrased)\n",
    "\n",
    "q_example_ans = lm + example_answer(q)\n",
    "q_example_ans = q_example_ans['q_example_ans'].strip('\"\\' ')\n",
    "logger.info(f\"Example answer: {q_example_ans}\")\n",
    "docs3 = bing_search(q_example_ans)\n",
    "\n",
    "docs = docs1 + docs2 + docs3\n",
    "random.shuffle(docs)\n",
    "\n",
    "# # Step 3 rerank\n",
    "# # TODO"
   ]
  },
  {
   "cell_type": "code",
   "execution_count": 20,
   "id": "8711d824",
   "metadata": {},
   "outputs": [],
   "source": [
    "# lm + rephrase(q)"
   ]
  },
  {
   "cell_type": "code",
   "execution_count": 21,
   "id": "60cf9378",
   "metadata": {},
   "outputs": [],
   "source": [
    "# q_rephrased"
   ]
  },
  {
   "cell_type": "code",
   "execution_count": 22,
   "id": "0d2f49c8",
   "metadata": {},
   "outputs": [
    {
     "name": "stdout",
     "output_type": "stream",
     "text": [
      "search q=`What are the main categories of mechinterp interventions?`\n",
      "results:\n",
      "- Explaining AI through Mechanistic Interpretability final v2 -- Department of Philosophy,...\n",
      "- Decoding AI’s Thought Process: <b>Mechanistic</b> <b>Interpretability</b> -- Mechanistic Interpretabil...\n",
      "- Exploring the Chemical Space of the Exposome: How Far Have We Gone ... -- Around two-thirds of chro...\n",
      "- 2.1: Introduction to types of intervention and their development -- 2.1: Introduction to type...\n",
      "- Definitions, methods, and applications in interpretable machine ... -- Methods such as principal...\n",
      "- The Mythos of Model Interpretability: In machine learning, the concept ... -- model properties and tech...\n",
      "- Lesson 1: Diagnostic Intervention Flashcards | Quizlet -- Medical Intervention. Any...\n",
      "- Definitions, methods, and applications in interpretable machine ... - PNAS -- We define interpretable m...\n",
      "- Mechanistic Interpretability for AI Safety A Review - arXiv.org -- This review focuses on me...\n",
      "- Interpretable Machine Learning for Weather and Climate -- Abstract. Advanced machin...\n",
      "- Mechanistic Interpretability for AI Safety A Review - arXiv.org -- Mechanistic interpretabil...\n",
      "- Types of subjects - Current Students -- Key subjects are the crit...\n",
      "- Rethinking Interpretability in the Era of Large Language Models - arXiv.org -- Finally, the insights gai...\n",
      "- An Extremely Opinionated Annotated List of My Favourite Mechanistic ... -- Reverse engineering modul...\n",
      "- Usable XAI: 10 Strategies Towards Exploiting Explainability in the LLM Era -- In this paper, we investi...\n",
      "- Types of intervention and their development - Field Trials of Health ... -- 2. Types of intervention....\n",
      "- Next-Gen Nano Biosensor Technologies to Monitor Carbapenem ... - Springer -- Non-genotypic methods suc...\n",
      "- Getting Started in Mechanistic Interpretability - TransformerLens ... -- Getting Started in Mechan...\n",
      "- Interpretable and explainable <b>machine</b> <b>learning</b>: A methods‐centric ... -- 1 INTRODUCTION: INTERPRET...\n",
      "- 2.2: Types of intervention - Medicine LibreTexts -- Page ID. Interventions ca...\n",
      "- 2: Types of intervention and their development - Medicine LibreTexts -- 2.1: Introduction to type...\n",
      "- Mechanistic Interpretability Website -- Mechanistic interpretabil...\n",
      "- The Missing Pieces of Artificial Intelligence in Medicine -- Abstract. Stakeholders ac...\n",
      "- Primary Key - TrainingHub.io -- A primary key is a fundam...\n",
      "- Primary key - Wikipedia -- In the relational model o...\n",
      "- 2 Types of intervention and their development - Oxford Academic -- Interventions can be clas...\n",
      "- Notions of explainability and evaluation approaches for explainable ... -- 1. Introduction. The numb...\n",
      "- Development of Interventions in Health Care | SpringerLink -- Many interventions are co...\n",
      "- Medical Interventions 1.1 Essential Questions Flashcards -- A medical intervention is...\n",
      "- Explainable AI: A Review of Machine Learning Interpretability Methods -- Based on the above, inter...\n",
      "\n",
      "\n",
      "search q_rephrased= `(\"main categories\" OR \"primary types\" OR \"key classifications\" OR \"major groups\") AND (\"mechinterp interventions\" OR \"mechanistic interpretation interventions\" OR \"mechanistic interpretability interventions\" OR \"mechanistic interpretability techniques\" OR \"mechanistic interpretation methods\")`\n",
      "results:\n",
      "- Definitions, methods, and applications in interpretable machine ... - PNAS -- We define interpretable m...\n",
      "- Notions of explainability and evaluation approaches for explainable ... -- 1. Introduction. The numb...\n",
      "- Usable XAI: 10 Strategies Towards Exploiting Explainability in the LLM Era -- In this paper, we investi...\n",
      "- Primary Key - TrainingHub.io -- A primary key is a fundam...\n",
      "- Types of subjects - Current Students -- Key subjects are the crit...\n",
      "- Interpretable Machine Learning for Weather and Climate -- Abstract. Advanced machin...\n",
      "- Next-Gen Nano Biosensor Technologies to Monitor Carbapenem ... - Springer -- Non-genotypic methods suc...\n",
      "- Exploring the Chemical Space of the Exposome: How Far Have We Gone ... -- Around two-thirds of chro...\n",
      "- Primary key - Wikipedia -- In the relational model o...\n",
      "- The Missing Pieces of Artificial Intelligence in Medicine -- Abstract. Stakeholders ac...\n",
      "\n",
      "\n",
      "search q_example= `The main categories of mechanistic interpretability (mechinterp) interventions include activation patching, path patching, and model editing. Activation patching involves modifying the activations of specific neurons or layers to observe changes in model behavior, helping to identify the roles of individual components. Path patching focuses on altering the flow of information along specific paths within the network, which aids in understanding how different pathways contribute to the model's decisions. Model editing encompasses direct modifications to the model's parameters or architecture to test hypotheses about its functioning, providing insights into the causal relationships within the network. Together, these interventions offer a comprehensive toolkit for dissecting and understanding the inner workings of complex machine learning models.``\n",
      "results:\n",
      "- Mechanistic Interpretability for AI Safety A Review - arXiv.org -- Mechanistic interpretabil...\n",
      "- Mechanistic Interpretability for AI Safety A Review - arXiv.org -- This review focuses on me...\n",
      "- Getting Started in Mechanistic Interpretability - TransformerLens ... -- Getting Started in Mechan...\n",
      "- Rethinking Interpretability in the Era of Large Language Models - arXiv.org -- Finally, the insights gai...\n",
      "- Explaining AI through Mechanistic Interpretability final v2 -- Department of Philosophy,...\n",
      "- Interpretable and explainable <b>machine</b> <b>learning</b>: A methods‐centric ... -- 1 INTRODUCTION: INTERPRET...\n",
      "- Definitions, methods, and applications in interpretable machine ... -- Methods such as principal...\n",
      "- The Mythos of Model Interpretability: In machine learning, the concept ... -- model properties and tech...\n",
      "- Decoding AI’s Thought Process: <b>Mechanistic</b> <b>Interpretability</b> -- Mechanistic Interpretabil...\n",
      "- Explainable AI: A Review of Machine Learning Interpretability Methods -- Based on the above, inter...\n",
      "\n",
      "\n",
      "\n"
     ]
    }
   ],
   "source": [
    "# QC our search?\n",
    "s = f\"search q=`{q}`\\nresults:\\n\"\n",
    "for doc in docs:\n",
    "    s += f\"- {doc['name']} -- {doc['content'][:25]}...\\n\"\n",
    "s += f\"\\n\\n\"\n",
    "\n",
    "s += f\"search q_rephrased= `{q_rephrased}`\\nresults:\\n\"\n",
    "for doc in docs2:\n",
    "    s += f\"- {doc['name']} -- {doc['content'][:25]}...\\n\"\n",
    "s += f\"\\n\\n\"\n",
    "\n",
    "s += f\"search q_example= `{q_example_ans}``\\nresults:\\n\"\n",
    "for doc in docs3:\n",
    "    s += f\"- {doc['name']} -- {doc['content'][:25]}...\\n\"\n",
    "s  += f\"\\n\\n\"\n",
    "print(s)"
   ]
  },
  {
   "cell_type": "code",
   "execution_count": 13,
   "id": "8ee0e0ea",
   "metadata": {},
   "outputs": [],
   "source": [
    "# docs3"
   ]
  },
  {
   "cell_type": "code",
   "execution_count": 23,
   "id": "22173783",
   "metadata": {},
   "outputs": [
    {
     "data": {
      "text/html": [
       "<pre style='margin: 0px; padding: 0px; vertical-align: middle; padding-left: 8px; margin-left: -8px; border-radius: 0px; border-left: 1px solid rgba(127, 127, 127, 0.2); white-space: pre-wrap; font-family: ColfaxAI, Arial; font-size: 15px; line-height: 23px;'><div style='display: flex; border-bottom: 1px solid rgba(127, 127, 127, 0.2);  justify-content: center; align-items: center;'><div style='flex: 0 0 80px; opacity: 0.5;'>system</div><div style='flex-grow: 1; padding: 5px; padding-top: 10px; padding-bottom: 10px; margin-top: 0px; white-space: pre-wrap; margin-bottom: 0px;'>You are a helpful assistant knowledgeable about AI Alignment and Safety. Please give a clear and coherent answer to the user&#x27;s questions. (written after &quot;Q:&quot;) using the following sources. Each source is labeled with a letter. Feel free to use the sources in any order, and try to use multiple sources in your answers</div></div><div style='display: flex; border-bottom: 1px solid rgba(127, 127, 127, 0.2);  justify-content: center; align-items: center;'><div style='flex: 0 0 80px; opacity: 0.5;'>user</div><div style='flex-grow: 1; padding: 5px; padding-top: 10px; padding-bottom: 10px; margin-top: 0px; white-space: pre-wrap; margin-bottom: 0px;'>[0] Explaining AI through Mechanistic Interpretability final v2 Department of Philosophy, University of Bayreuth. lena.kaestner@uni-bayreuth.de, barnaby.cook@uni-bayreuth.de. authors contributed equally. Recent work in explainable artificial intelligence (XAI) attempts to render opaque AI systems understandable through a divide-and-conquer strategy. However, this fails to illuminate how trained AI systems ...\n",
       "\n",
       "[1] Decoding AI’s Thought Process: &lt;b&gt;Mechanistic&lt;/b&gt; &lt;b&gt;Interpretability&lt;/b&gt; Mechanistic Interpretability is a field of study that concerns study of neural networks (more generally ML models) with an intent to understand and explain inner workings of a machine learned model.\n",
       "\n",
       "[2] Exploring the Chemical Space of the Exposome: How Far Have We Gone ... Around two-thirds of chronic human disease can not be explained by genetics alone. The Lancet Commission on Pollution and Health estimates that 16% of global premature deaths are linked to pollution. Additionally, it is now thought that humankind has surpassed the safe planetary operating space for introducing human-made chemicals into the Earth System. Direct and indirect exposure to a myriad ...\n",
       "\n",
       "[3] 2.1: Introduction to types of intervention and their development 2.1: Introduction to types of intervention and their development. Page ID. This book is about the evaluation of the effectiveness of health-related interventions. We use the term ‘intervention’ to apply to any activity undertaken with the objective of improving ….\n",
       "\n",
       "[4] Definitions, methods, and applications in interpretable machine ... Methods such as principal components analysis , independent components analysis , and canonical correlation analysis can often identify a few interpretable dimensions, which can then be used as input to a model or to provide insights in their own right. Using fewer inputs can not only improve descriptive accuracy, but also increase predictive accuracy by reducing the number of parameters to fit.\n",
       "\n",
       "[5] The Mythos of Model Interpretability: In machine learning, the concept ... model properties and techniques thought to confer interpretability, identifying transparency to humans and post hoc explanations as competing concepts. Throughout, the feasibility and desirability of different notions of interpretability are discussed. The article questions the oft-made assertions that linear models are interpretable\n",
       "\n",
       "[6] Lesson 1: Diagnostic Intervention Flashcards | Quizlet Medical Intervention. Any measure whose purpose is to improve health or alter the course of disease. Outbreak. A sudden rise in the incidence of disease. Pathogen. A specific causative agent of a disease. Study with Quizlet and memorize flashcards containing terms like What is a medical intervention?, What are the main categories of ...\n",
       "\n",
       "[7] Definitions, methods, and applications in interpretable machine ... - PNAS We define interpretable machine learning as the extraction of relevant knowledge from a machine-learning model concerning relationships either contained in data or learned by the model. Here, we view knowledge as being relevant if it provides insight for a particular audience into a chosen problem.\n",
       "\n",
       "[8] Mechanistic Interpretability for AI Safety A Review - arXiv.org This review focuses on mechanistic interpretability, an emerging approach ... computational units, potentially representing individual features. Within a neural network representation h∈Rn, the nbasis directions are called neurons. For a neuron to be meaningful, the basis directions ... providing insights into the superposition phenomenon\n",
       "\n",
       "[9] Interpretable Machine Learning for Weather and Climate Abstract. Advanced machine learning models have recently achieved high predictive accuracy for weather and climate prediction. However, these complex models often lack inherent transparency and interpretability 1 1 1 In this paper, the terms ”explanation” and ”interpretation,” as well as ”explainability” and ”interpretability,” and ”explainable” and ”interpretable” are ...\n",
       "\n",
       "[10] Mechanistic Interpretability for AI Safety A Review - arXiv.org Mechanistic interpretability, as an approach to inner interpretability, aims to completely specify a neural network’s computation, potentially in a format as explicit as pseudocode (also called reverse engineering), striving for a granular and precise understanding of model behavior.It distinguishes itself primarily through its ambition for comprehensive reverse engineering and its strong ...\n",
       "\n",
       "[11] Types of subjects - Current Students Key subjects are the critical knowledge and/or skills for your course. If you have key subjects in your course, you must pass the key subjects in no more than 2 attempts to avoid receiving a notice of exclusion from your course.\n",
       "\n",
       "[12] Rethinking Interpretability in the Era of Large Language Models - arXiv.org Finally, the insights gained from mechanistic understanding are beginning to inform practical applications, with current areas of focus including model editing [46], improving instruction following [115], and model compression [116]. These areas simultaneously serve as a sanity check on many mechanistic interpretations and as a useful path to enhancing the reliability of LLMs.\n",
       "\n",
       "[13] An Extremely Opinionated Annotated List of My Favourite Mechanistic ... Reverse engineering modular addition - understanding the different types of evidence and how they fit together. ... The main things I think are cool were successfully applying interpretability during training, and on the weird and fucky task of playing chess (and that models trained on non-image/language tasks are somewhat ...\n",
       "\n",
       "[14] Usable XAI: 10 Strategies Towards Exploiting Explainability in the LLM Era In this paper, we investigate 10 strategies towards usable XAI techniques in the context of LLMs. These strategies are organized into two major categories: (1) Usable XAI for LLMs; (2) LLM for Usable XAI, as shown in Figure 1. Additionally, we conduct case studies to substantiate the discussion on selected techniques.\n",
       "\n",
       "[15] Types of intervention and their development - Field Trials of Health ... 2. Types of intervention. Interventions can be classified into two broad categories: (1) preventive interventions are those that prevent disease from occurring and thus reduce the incidence (new cases) of disease, and (2) therapeutic interventions are those that treat, mitigate, or postpone the effects of disease, once it is under way, and thus reduce the case fatality rate or reduce the ...\n",
       "\n",
       "[16] Next-Gen Nano Biosensor Technologies to Monitor Carbapenem ... - Springer Non-genotypic methods such as agar dilution and the Kirby–Bauer method are effective; however, they are characterized by prolonged incubation durations, potentially impeding timely diagnosis [].In contrast, genotypic techniques like polymerase chain reaction (PCR) and quantitative PCR offer rapid and precise identification of drug-resistant genes, enabling swift characterization of bacterial ...\n",
       "\n",
       "[17] Getting Started in Mechanistic Interpretability - TransformerLens ... Getting Started in Mechanistic Interpretability. #. Mechanistic interpretability is a very young and small field, and there are a lot of open problems. This means there’s both a lot of low-hanging fruit, and that the bar for entry is low - if you would like to help, please try working on one! The standard answer to “why has no one done this ...\n",
       "\n",
       "[18] Interpretable and explainable &lt;b&gt;machine&lt;/b&gt; &lt;b&gt;learning&lt;/b&gt;: A methods‐centric ... 1 INTRODUCTION: INTERPRETABILITY, EXPLAINABILITY, AND INTELLIGIBILITY. Interpretable and explainable machine learning (ML) techniques emerge from a need to design intelligible machine learning systems, that is, ones that can be comprehended by a human mind, and to understand and explain predictions made by opaque models, such as deep neural networks (Goodfellow et al., 2016) or gradient ...\n",
       "\n",
       "[19] 2.2: Types of intervention - Medicine LibreTexts Page ID. Interventions can be classified into two broad categories: (1) preventive interventions are those that prevent disease from occurring and thus reduce the incidence (new cases) of disease, and (2) therapeutic interventions are those that treat, mitigate, or postpone the effects of disease, once it is under way, and thus reduce the case ...\n",
       "\n",
       "[20] 2: Types of intervention and their development - Medicine LibreTexts 2.1: Introduction to types of intervention and their development This book is about the evaluation of the effectiveness of health-related interventions. We use the term ‘intervention’ to apply to any activity undertaken with the objective of improving human health by preventing disease, by curing or reducing the severity or duration of an existing disease, or by restoring function lost ...\n",
       "\n",
       "[21] Mechanistic Interpretability Website Mechanistic interpretability is an exciting and rapidly evolving field that aims to uncover the inner workings of complex AI systems. Our mission is to be a hub for the latest research, resources, and community engagement around this important topic. Whether you&#x27;re a policymaker looking to understand the implications of AI, a researcher delving ...\n",
       "\n",
       "[22] The Missing Pieces of Artificial Intelligence in Medicine Abstract. Stakeholders across the entire healthcare chain are looking to incorporate artificial intelligence (AI) into their decision-making process. From early-stage drug discovery to clinical ...\n",
       "\n",
       "[23] Primary Key - TrainingHub.io A primary key is a fundamental concept in database design, critical for ensuring the integrity and uniqueness of data in a table. Here&#x27;s a detailed explanation of primary keys, their characteristics, and examples of how to create and manage them in SQL Server.\n",
       "\n",
       "[24] Primary key - Wikipedia In the relational model of databases, a primary key is a specific choice of a minimal set of attributes that uniquely specify a tuple in a relation (). Informally, a primary key is &quot;which attributes identify a record,&quot; and in simple cases constitute a single attribute: a unique ID. More formally, a primary key is a choice of candidate key (a minimal superkey); any other candidate key is an ...\n",
       "\n",
       "[25] 2 Types of intervention and their development - Oxford Academic Interventions can be classified into two broad categories: (1) preventive interventions are those that prevent disease from occurring and thus reduce the incidence (new cases) of disease, and (2) therapeutic interventions are those that treat, mitigate, or postpone the effects of disease, once it is under way, and thus reduce the case fatality rate or reduce the disability or morbidity ...\n",
       "\n",
       "[26] Notions of explainability and evaluation approaches for explainable ... 1. Introduction. The number of scientific articles, conferences and symposia around the world in eXplainable Artificial Intelligence (XAI) have significantly increased over the last decade [1], [2].This has led to the development of a plethora of domain-dependent and context-specific methods for dealing with the interpretation of machine learning (ML) models and the formation of explanations ...\n",
       "\n",
       "[27] Development of Interventions in Health Care | SpringerLink Many interventions are complex: They have multiple interacting components, they relate to a high number of behaviours in those delivering or receiving the intervention, a high number of groups or organisational levels are targeted, there are many and various types of outcomes and there is flexibility or tailoring in delivering the intervention (Craig et al. 2008). Interventions of interest to ...\n",
       "\n",
       "[28] Medical Interventions 1.1 Essential Questions Flashcards A medical intervention is anything that is used to treat, prevent, cure, or relieve the symptoms which cause human suffering, whether it is caused by a disease, accident, or something as simple as hygiene. There are several categories of medical interventions. Medical interventions can range from something very simple, to something more complex.\n",
       "\n",
       "[29] Explainable AI: A Review of Machine Learning Interpretability Methods Based on the above, interpretability is mostly connected with the intuition behind the outputs of a model ; with the idea being that the more interpretable a machine learning system is, the easier it is to identify cause-and-effect relationships within the system’s inputs and outputs. For example, in image recognition tasks, part of the reason that led a system to decide that a specific ...\n",
       "\n",
       "In your answer, please cite any claims you make back to each source using the format: [a], [b], etc. If you use multiple sources to make a claim cite all of them. For example: &quot;AGI is concerning [c, d, e].&quot;\n",
       "\n",
       "Q: : What are the main categories of mechinterp interventions?</div></div><div style='display: flex; border-bottom: 1px solid rgba(127, 127, 127, 0.2);  justify-content: center; align-items: center;'><div style='flex: 0 0 80px; opacity: 0.5;'>assistant</div><div style='flex-grow: 1; padding: 5px; padding-top: 10px; padding-bottom: 10px; margin-top: 0px; white-space: pre-wrap; margin-bottom: 0px;'><span style='background-color: rgba(0.0, 165.0, 0, 0.15); border-radius: 3px;' title='1.0'>Mechan</span><span style='background-color: rgba(0.0, 165.0, 0, 0.15); border-radius: 3px;' title='1.0'>istic</span><span style='background-color: rgba(0.0, 165.0, 0, 0.15); border-radius: 3px;' title='1.0'> interpreta</span><span style='background-color: rgba(0.0, 165.0, 0, 0.15); border-radius: 3px;' title='1.0'>bil</span><span style='background-color: rgba(0.0, 165.0, 0, 0.15); border-radius: 3px;' title='1.0'>ity</span><span style='background-color: rgba(0.0, 165.0, 0, 0.15); border-radius: 3px;' title='1.0'> (</span><span style='background-color: rgba(0.0, 165.0, 0, 0.15); border-radius: 3px;' title='1.0'>me</span><span style='background-color: rgba(0.0, 165.0, 0, 0.15); border-radius: 3px;' title='1.0'>chin</span><span style='background-color: rgba(0.0, 165.0, 0, 0.15); border-radius: 3px;' title='1.0'>ter</span><span style='background-color: rgba(0.0, 165.0, 0, 0.15); border-radius: 3px;' title='1.0'>p</span><span style='background-color: rgba(0.0, 165.0, 0, 0.15); border-radius: 3px;' title='1.0'>)</span><span style='background-color: rgba(0.0, 165.0, 0, 0.15); border-radius: 3px;' title='1.0'> interventions</span><span style='background-color: rgba(0.0, 165.0, 0, 0.15); border-radius: 3px;' title='1.0'> can</span><span style='background-color: rgba(0.0, 165.0, 0, 0.15); border-radius: 3px;' title='1.0'> be</span><span style='background-color: rgba(0.0, 165.0, 0, 0.15); border-radius: 3px;' title='1.0'> broadly</span><span style='background-color: rgba(0.0, 165.0, 0, 0.15); border-radius: 3px;' title='1.0'> categorized</span><span style='background-color: rgba(0.0, 165.0, 0, 0.15); border-radius: 3px;' title='1.0'> into</span><span style='background-color: rgba(0.0, 165.0, 0, 0.15); border-radius: 3px;' title='1.0'> two</span><span style='background-color: rgba(0.0, 165.0, 0, 0.15); border-radius: 3px;' title='1.0'> main</span><span style='background-color: rgba(0.0, 165.0, 0, 0.15); border-radius: 3px;' title='1.0'> types</span><span style='background-color: rgba(0.0, 165.0, 0, 0.15); border-radius: 3px;' title='1.0'>:</span><span style='background-color: rgba(0.0, 165.0, 0, 0.15); border-radius: 3px;' title='1.0'> **</span><span style='background-color: rgba(0.0, 165.0, 0, 0.15); border-radius: 3px;' title='1.0'>prevent</span><span style='background-color: rgba(0.0, 165.0, 0, 0.15); border-radius: 3px;' title='1.0'>ive</span><span style='background-color: rgba(0.0, 165.0, 0, 0.15); border-radius: 3px;' title='1.0'> interventions</span><span style='background-color: rgba(0.0, 165.0, 0, 0.15); border-radius: 3px;' title='1.0'>**</span><span style='background-color: rgba(0.0, 165.0, 0, 0.15); border-radius: 3px;' title='1.0'> and</span><span style='background-color: rgba(0.0, 165.0, 0, 0.15); border-radius: 3px;' title='1.0'> **</span><span style='background-color: rgba(0.0, 165.0, 0, 0.15); border-radius: 3px;' title='1.0'>ther</span><span style='background-color: rgba(0.0, 165.0, 0, 0.15); border-radius: 3px;' title='1.0'>apeut</span><span style='background-color: rgba(0.0, 165.0, 0, 0.15); border-radius: 3px;' title='1.0'>ic</span><span style='background-color: rgba(0.0, 165.0, 0, 0.15); border-radius: 3px;' title='1.0'> interventions</span><span style='background-color: rgba(0.0, 165.0, 0, 0.15); border-radius: 3px;' title='1.0'>**</span><span style='background-color: rgba(0.0, 165.0, 0, 0.15); border-radius: 3px;' title='1.0'>.</span><span style='background-color: rgba(0.0, 165.0, 0, 0.15); border-radius: 3px;' title='1.0'> \n",
       "\n",
       "</span><span style='background-color: rgba(0.0, 165.0, 0, 0.15); border-radius: 3px;' title='1.0'>1</span><span style='background-color: rgba(0.0, 165.0, 0, 0.15); border-radius: 3px;' title='1.0'>.</span><span style='background-color: rgba(0.0, 165.0, 0, 0.15); border-radius: 3px;' title='1.0'> **</span><span style='background-color: rgba(0.0, 165.0, 0, 0.15); border-radius: 3px;' title='1.0'>Prevent</span><span style='background-color: rgba(0.0, 165.0, 0, 0.15); border-radius: 3px;' title='1.0'>ive</span><span style='background-color: rgba(0.0, 165.0, 0, 0.15); border-radius: 3px;' title='1.0'> Intervention</span><span style='background-color: rgba(0.0, 165.0, 0, 0.15); border-radius: 3px;' title='1.0'>s</span><span style='background-color: rgba(0.0, 165.0, 0, 0.15); border-radius: 3px;' title='1.0'>**</span><span style='background-color: rgba(0.0, 165.0, 0, 0.15); border-radius: 3px;' title='1.0'>:</span><span style='background-color: rgba(0.0, 165.0, 0, 0.15); border-radius: 3px;' title='1.0'> These</span><span style='background-color: rgba(0.0, 165.0, 0, 0.15); border-radius: 3px;' title='1.0'> are</span><span style='background-color: rgba(0.0, 165.0, 0, 0.15); border-radius: 3px;' title='1.0'> designed</span><span style='background-color: rgba(0.0, 165.0, 0, 0.15); border-radius: 3px;' title='1.0'> to</span><span style='background-color: rgba(0.0, 165.0, 0, 0.15); border-radius: 3px;' title='1.0'> prevent</span><span style='background-color: rgba(0.0, 165.0, 0, 0.15); border-radius: 3px;' title='1.0'> issues</span><span style='background-color: rgba(0.0, 165.0, 0, 0.15); border-radius: 3px;' title='1.0'> from</span><span style='background-color: rgba(0.0, 165.0, 0, 0.15); border-radius: 3px;' title='1.0'> arising</span><span style='background-color: rgba(0.0, 165.0, 0, 0.15); border-radius: 3px;' title='1.0'> in</span><span style='background-color: rgba(0.0, 165.0, 0, 0.15); border-radius: 3px;' title='1.0'> AI</span><span style='background-color: rgba(0.0, 165.0, 0, 0.15); border-radius: 3px;' title='1.0'> systems</span><span style='background-color: rgba(0.0, 165.0, 0, 0.15); border-radius: 3px;' title='1.0'>.</span><span style='background-color: rgba(0.0, 165.0, 0, 0.15); border-radius: 3px;' title='1.0'> In</span><span style='background-color: rgba(0.0, 165.0, 0, 0.15); border-radius: 3px;' title='1.0'> the</span><span style='background-color: rgba(0.0, 165.0, 0, 0.15); border-radius: 3px;' title='1.0'> context</span><span style='background-color: rgba(0.0, 165.0, 0, 0.15); border-radius: 3px;' title='1.0'> of</span><span style='background-color: rgba(0.0, 165.0, 0, 0.15); border-radius: 3px;' title='1.0'> mech</span><span style='background-color: rgba(0.0, 165.0, 0, 0.15); border-radius: 3px;' title='1.0'>interp</span><span style='background-color: rgba(0.0, 165.0, 0, 0.15); border-radius: 3px;' title='1.0'>,</span><span style='background-color: rgba(0.0, 165.0, 0, 0.15); border-radius: 3px;' title='1.0'> preventive</span><span style='background-color: rgba(0.0, 165.0, 0, 0.15); border-radius: 3px;' title='1.0'> interventions</span><span style='background-color: rgba(0.0, 165.0, 0, 0.15); border-radius: 3px;' title='1.0'> might</span><span style='background-color: rgba(0.0, 165.0, 0, 0.15); border-radius: 3px;' title='1.0'> include</span><span style='background-color: rgba(0.0, 165.0, 0, 0.15); border-radius: 3px;' title='1.0'> techniques</span><span style='background-color: rgba(0.0, 165.0, 0, 0.15); border-radius: 3px;' title='1.0'> and</span><span style='background-color: rgba(0.0, 165.0, 0, 0.15); border-radius: 3px;' title='1.0'> strategies</span><span style='background-color: rgba(0.0, 165.0, 0, 0.15); border-radius: 3px;' title='1.0'> implemented</span><span style='background-color: rgba(0.0, 165.0, 0, 0.15); border-radius: 3px;' title='1.0'> during</span><span style='background-color: rgba(0.0, 165.0, 0, 0.15); border-radius: 3px;' title='1.0'> the</span><span style='background-color: rgba(0.0, 165.0, 0, 0.15); border-radius: 3px;' title='1.0'> development</span><span style='background-color: rgba(0.0, 165.0, 0, 0.15); border-radius: 3px;' title='1.0'> and</span><span style='background-color: rgba(0.0, 165.0, 0, 0.15); border-radius: 3px;' title='1.0'> training</span><span style='background-color: rgba(0.0, 165.0, 0, 0.15); border-radius: 3px;' title='1.0'> phases</span><span style='background-color: rgba(0.0, 165.0, 0, 0.15); border-radius: 3px;' title='1.0'> of</span><span style='background-color: rgba(0.0, 165.0, 0, 0.15); border-radius: 3px;' title='1.0'> AI</span><span style='background-color: rgba(0.0, 165.0, 0, 0.15); border-radius: 3px;' title='1.0'> models</span><span style='background-color: rgba(0.0, 165.0, 0, 0.15); border-radius: 3px;' title='1.0'> to</span><span style='background-color: rgba(0.0, 165.0, 0, 0.15); border-radius: 3px;' title='1.0'> ensure</span><span style='background-color: rgba(0.0, 165.0, 0, 0.15); border-radius: 3px;' title='1.0'> that</span><span style='background-color: rgba(0.0, 165.0, 0, 0.15); border-radius: 3px;' title='1.0'> the</span><span style='background-color: rgba(0.0, 165.0, 0, 0.15); border-radius: 3px;' title='1.0'> models</span><span style='background-color: rgba(0.0, 165.0, 0, 0.15); border-radius: 3px;' title='1.0'> are</span><span style='background-color: rgba(0.0, 165.0, 0, 0.15); border-radius: 3px;' title='1.0'> interpreta</span><span style='background-color: rgba(0.0, 165.0, 0, 0.15); border-radius: 3px;' title='1.0'>ble</span><span style='background-color: rgba(0.0, 165.0, 0, 0.15); border-radius: 3px;' title='1.0'> and</span><span style='background-color: rgba(0.0, 165.0, 0, 0.15); border-radius: 3px;' title='1.0'> their</span><span style='background-color: rgba(0.0, 165.0, 0, 0.15); border-radius: 3px;' title='1.0'> behaviors</span><span style='background-color: rgba(0.0, 165.0, 0, 0.15); border-radius: 3px;' title='1.0'> are</span><span style='background-color: rgba(0.0, 165.0, 0, 0.15); border-radius: 3px;' title='1.0'> understandable</span><span style='background-color: rgba(0.0, 165.0, 0, 0.15); border-radius: 3px;' title='1.0'> from</span><span style='background-color: rgba(0.0, 165.0, 0, 0.15); border-radius: 3px;' title='1.0'> the</span><span style='background-color: rgba(0.0, 165.0, 0, 0.15); border-radius: 3px;' title='1.0'> outset</span><span style='background-color: rgba(0.0, 165.0, 0, 0.15); border-radius: 3px;' title='1.0'>.</span><span style='background-color: rgba(0.0, 165.0, 0, 0.15); border-radius: 3px;' title='1.0'> This</span><span style='background-color: rgba(0.0, 165.0, 0, 0.15); border-radius: 3px;' title='1.0'> can</span><span style='background-color: rgba(0.0, 165.0, 0, 0.15); border-radius: 3px;' title='1.0'> involve</span><span style='background-color: rgba(0.0, 165.0, 0, 0.15); border-radius: 3px;' title='1.0'> designing</span><span style='background-color: rgba(0.0, 165.0, 0, 0.15); border-radius: 3px;' title='1.0'> models</span><span style='background-color: rgba(0.0, 165.0, 0, 0.15); border-radius: 3px;' title='1.0'> with</span><span style='background-color: rgba(0.0, 165.0, 0, 0.15); border-radius: 3px;' title='1.0'> inherent</span><span style='background-color: rgba(0.0, 165.0, 0, 0.15); border-radius: 3px;' title='1.0'> transparency</span><span style='background-color: rgba(0.0, 165.0, 0, 0.15); border-radius: 3px;' title='1.0'> or</span><span style='background-color: rgba(0.0, 165.0, 0, 0.15); border-radius: 3px;' title='1.0'> using</span><span style='background-color: rgba(0.0, 165.0, 0, 0.15); border-radius: 3px;' title='1.0'> specific</span><span style='background-color: rgba(0.0, 165.0, 0, 0.15); border-radius: 3px;' title='1.0'> training</span><span style='background-color: rgba(0.0, 165.0, 0, 0.15); border-radius: 3px;' title='1.0'> protocols</span><span style='background-color: rgba(0.0, 165.0, 0, 0.15); border-radius: 3px;' title='1.0'> that</span><span style='background-color: rgba(0.0, 165.0, 0, 0.15); border-radius: 3px;' title='1.0'> promote</span><span style='background-color: rgba(0.0, 165.0, 0, 0.15); border-radius: 3px;' title='1.0'> interpreta</span><span style='background-color: rgba(0.0, 165.0, 0, 0.15); border-radius: 3px;' title='1.0'>bil</span><span style='background-color: rgba(0.0, 165.0, 0, 0.15); border-radius: 3px;' title='1.0'>ity</span><span style='background-color: rgba(0.0, 165.0, 0, 0.15); border-radius: 3px;' title='1.0'> [</span><span style='background-color: rgba(0.0, 165.0, 0, 0.15); border-radius: 3px;' title='1.0'>15</span><span style='background-color: rgba(0.0, 165.0, 0, 0.15); border-radius: 3px;' title='1.0'>],</span><span style='background-color: rgba(0.0, 165.0, 0, 0.15); border-radius: 3px;' title='1.0'> [</span><span style='background-color: rgba(0.0, 165.0, 0, 0.15); border-radius: 3px;' title='1.0'>25</span><span style='background-color: rgba(0.0, 165.0, 0, 0.15); border-radius: 3px;' title='1.0'>].\n",
       "\n",
       "</span><span style='background-color: rgba(0.0, 165.0, 0, 0.15); border-radius: 3px;' title='1.0'>2</span><span style='background-color: rgba(0.0, 165.0, 0, 0.15); border-radius: 3px;' title='1.0'>.</span><span style='background-color: rgba(0.0, 165.0, 0, 0.15); border-radius: 3px;' title='1.0'> **</span><span style='background-color: rgba(0.0, 165.0, 0, 0.15); border-radius: 3px;' title='1.0'>Ther</span><span style='background-color: rgba(0.0, 165.0, 0, 0.15); border-radius: 3px;' title='1.0'>apeut</span><span style='background-color: rgba(0.0, 165.0, 0, 0.15); border-radius: 3px;' title='1.0'>ic</span><span style='background-color: rgba(0.0, 165.0, 0, 0.15); border-radius: 3px;' title='1.0'> Intervention</span><span style='background-color: rgba(0.0, 165.0, 0, 0.15); border-radius: 3px;' title='1.0'>s</span><span style='background-color: rgba(0.0, 165.0, 0, 0.15); border-radius: 3px;' title='1.0'>**</span><span style='background-color: rgba(0.0, 165.0, 0, 0.15); border-radius: 3px;' title='1.0'>:</span><span style='background-color: rgba(0.0, 165.0, 0, 0.15); border-radius: 3px;' title='1.0'> These</span><span style='background-color: rgba(0.0, 165.0, 0, 0.15); border-radius: 3px;' title='1.0'> interventions</span><span style='background-color: rgba(0.0, 165.0, 0, 0.15); border-radius: 3px;' title='1.0'> are</span><span style='background-color: rgba(0.0, 165.0, 0, 0.15); border-radius: 3px;' title='1.0'> applied</span><span style='background-color: rgba(0.0, 165.0, 0, 0.15); border-radius: 3px;' title='1.0'> after</span><span style='background-color: rgba(0.0, 165.0, 0, 0.15); border-radius: 3px;' title='1.0'> the</span><span style='background-color: rgba(0.0, 165.0, 0, 0.15); border-radius: 3px;' title='1.0'> AI</span><span style='background-color: rgba(0.0, 165.0, 0, 0.15); border-radius: 3px;' title='1.0'> system</span><span style='background-color: rgba(0.0, 165.0, 0, 0.15); border-radius: 3px;' title='1.0'> has</span><span style='background-color: rgba(0.0, 165.0, 0, 0.15); border-radius: 3px;' title='1.0'> been</span><span style='background-color: rgba(0.0, 165.0, 0, 0.15); border-radius: 3px;' title='1.0'> developed</span><span style='background-color: rgba(0.0, 165.0, 0, 0.15); border-radius: 3px;' title='1.0'> and</span><span style='background-color: rgba(0.0, 165.0, 0, 0.15); border-radius: 3px;' title='1.0'> deployed</span><span style='background-color: rgba(0.0, 165.0, 0, 0.15); border-radius: 3px;' title='1.0'>.</span><span style='background-color: rgba(0.0, 165.0, 0, 0.15); border-radius: 3px;' title='1.0'> They</span><span style='background-color: rgba(0.0, 165.0, 0, 0.15); border-radius: 3px;' title='1.0'> aim</span><span style='background-color: rgba(0.0, 165.0, 0, 0.15); border-radius: 3px;' title='1.0'> to</span><span style='background-color: rgba(0.0, 165.0, 0, 0.15); border-radius: 3px;' title='1.0'> diagnose</span><span style='background-color: rgba(0.0, 165.0, 0, 0.15); border-radius: 3px;' title='1.0'>,</span><span style='background-color: rgba(0.0, 165.0, 0, 0.15); border-radius: 3px;' title='1.0'> mitigate</span><span style='background-color: rgba(0.0, 165.0, 0, 0.15); border-radius: 3px;' title='1.0'>,</span><span style='background-color: rgba(0.0, 165.0, 0, 0.15); border-radius: 3px;' title='1.0'> or</span><span style='background-color: rgba(0.0, 165.0, 0, 0.15); border-radius: 3px;' title='1.0'> correct</span><span style='background-color: rgba(0.0, 165.0, 0, 0.15); border-radius: 3px;' title='1.0'> issues</span><span style='background-color: rgba(0.0, 165.0, 0, 0.15); border-radius: 3px;' title='1.0'> related</span><span style='background-color: rgba(0.0, 165.0, 0, 0.15); border-radius: 3px;' title='1.0'> to</span><span style='background-color: rgba(0.0, 165.0, 0, 0.15); border-radius: 3px;' title='1.0'> the</span><span style='background-color: rgba(0.0, 165.0, 0, 0.15); border-radius: 3px;' title='1.0'> interpreta</span><span style='background-color: rgba(0.0, 165.0, 0, 0.15); border-radius: 3px;' title='1.0'>bil</span><span style='background-color: rgba(0.0, 165.0, 0, 0.15); border-radius: 3px;' title='1.0'>ity</span><span style='background-color: rgba(0.0, 165.0, 0, 0.15); border-radius: 3px;' title='1.0'> of</span><span style='background-color: rgba(0.0, 165.0, 0, 0.15); border-radius: 3px;' title='1.0'> the</span><span style='background-color: rgba(0.0, 165.0, 0, 0.15); border-radius: 3px;' title='1.0'> model</span><span style='background-color: rgba(0.0, 165.0, 0, 0.15); border-radius: 3px;' title='1.0'>.</span><span style='background-color: rgba(0.0, 165.0, 0, 0.15); border-radius: 3px;' title='1.0'> This</span><span style='background-color: rgba(0.0, 165.0, 0, 0.15); border-radius: 3px;' title='1.0'> can</span><span style='background-color: rgba(0.0, 165.0, 0, 0.15); border-radius: 3px;' title='1.0'> include</span><span style='background-color: rgba(0.0, 165.0, 0, 0.15); border-radius: 3px;' title='1.0'> post</span><span style='background-color: rgba(0.0, 165.0, 0, 0.15); border-radius: 3px;' title='1.0'> hoc</span><span style='background-color: rgba(0.0, 165.0, 0, 0.15); border-radius: 3px;' title='1.0'> analysis</span><span style='background-color: rgba(0.0, 165.0, 0, 0.15); border-radius: 3px;' title='1.0'> techniques</span><span style='background-color: rgba(0.0, 165.0, 0, 0.15); border-radius: 3px;' title='1.0'> such</span><span style='background-color: rgba(0.0, 165.0, 0, 0.15); border-radius: 3px;' title='1.0'> as</span><span style='background-color: rgba(0.0, 165.0, 0, 0.15); border-radius: 3px;' title='1.0'> reverse</span><span style='background-color: rgba(0.0, 165.0, 0, 0.15); border-radius: 3px;' title='1.0'> engineering</span><span style='background-color: rgba(0.0, 165.0, 0, 0.15); border-radius: 3px;' title='1.0'> the</span><span style='background-color: rgba(0.0, 165.0, 0, 0.15); border-radius: 3px;' title='1.0'> model</span><span style='background-color: rgba(0.0, 165.0, 0, 0.15); border-radius: 3px;' title='1.0'>&#x27;s</span><span style='background-color: rgba(0.0, 165.0, 0, 0.15); border-radius: 3px;' title='1.0'> computations</span><span style='background-color: rgba(0.0, 165.0, 0, 0.15); border-radius: 3px;' title='1.0'> to</span><span style='background-color: rgba(0.0, 165.0, 0, 0.15); border-radius: 3px;' title='1.0'> understand</span><span style='background-color: rgba(0.0, 165.0, 0, 0.15); border-radius: 3px;' title='1.0'> its</span><span style='background-color: rgba(0.0, 165.0, 0, 0.15); border-radius: 3px;' title='1.0'> decision</span><span style='background-color: rgba(0.0, 165.0, 0, 0.15); border-radius: 3px;' title='1.0'>-making</span><span style='background-color: rgba(0.0, 165.0, 0, 0.15); border-radius: 3px;' title='1.0'> process</span><span style='background-color: rgba(0.0, 165.0, 0, 0.15); border-radius: 3px;' title='1.0'>,</span><span style='background-color: rgba(0.0, 165.0, 0, 0.15); border-radius: 3px;' title='1.0'> or</span><span style='background-color: rgba(0.0, 165.0, 0, 0.15); border-radius: 3px;' title='1.0'> using</span><span style='background-color: rgba(0.0, 165.0, 0, 0.15); border-radius: 3px;' title='1.0'> tools</span><span style='background-color: rgba(0.0, 165.0, 0, 0.15); border-radius: 3px;' title='1.0'> and</span><span style='background-color: rgba(0.0, 165.0, 0, 0.15); border-radius: 3px;' title='1.0'> methods</span><span style='background-color: rgba(0.0, 165.0, 0, 0.15); border-radius: 3px;' title='1.0'> to</span><span style='background-color: rgba(0.0, 165.0, 0, 0.15); border-radius: 3px;' title='1.0'> extract</span><span style='background-color: rgba(0.0, 165.0, 0, 0.15); border-radius: 3px;' title='1.0'> and</span><span style='background-color: rgba(0.0, 165.0, 0, 0.15); border-radius: 3px;' title='1.0'> explain</span><span style='background-color: rgba(0.0, 165.0, 0, 0.15); border-radius: 3px;' title='1.0'> the</span><span style='background-color: rgba(0.0, 165.0, 0, 0.15); border-radius: 3px;' title='1.0'> knowledge</span><span style='background-color: rgba(0.0, 165.0, 0, 0.15); border-radius: 3px;' title='1.0'> embedded</span><span style='background-color: rgba(0.0, 165.0, 0, 0.15); border-radius: 3px;' title='1.0'> within</span><span style='background-color: rgba(0.0, 165.0, 0, 0.15); border-radius: 3px;' title='1.0'> the</span><span style='background-color: rgba(0.0, 165.0, 0, 0.15); border-radius: 3px;' title='1.0'> model</span><span style='background-color: rgba(0.0, 165.0, 0, 0.15); border-radius: 3px;' title='1.0'> [</span><span style='background-color: rgba(0.0, 165.0, 0, 0.15); border-radius: 3px;' title='1.0'>10</span><span style='background-color: rgba(0.0, 165.0, 0, 0.15); border-radius: 3px;' title='1.0'>],</span><span style='background-color: rgba(0.0, 165.0, 0, 0.15); border-radius: 3px;' title='1.0'> [</span><span style='background-color: rgba(0.0, 165.0, 0, 0.15); border-radius: 3px;' title='1.0'>15</span><span style='background-color: rgba(0.0, 165.0, 0, 0.15); border-radius: 3px;' title='1.0'>],</span><span style='background-color: rgba(0.0, 165.0, 0, 0.15); border-radius: 3px;' title='1.0'> [</span><span style='background-color: rgba(0.0, 165.0, 0, 0.15); border-radius: 3px;' title='1.0'>25</span><span style='background-color: rgba(0.0, 165.0, 0, 0.15); border-radius: 3px;' title='1.0'>].\n",
       "\n",
       "</span><span style='background-color: rgba(0.0, 165.0, 0, 0.15); border-radius: 3px;' title='1.0'>These</span><span style='background-color: rgba(0.0, 165.0, 0, 0.15); border-radius: 3px;' title='1.0'> categories</span><span style='background-color: rgba(0.0, 165.0, 0, 0.15); border-radius: 3px;' title='1.0'> align</span><span style='background-color: rgba(0.0, 165.0, 0, 0.15); border-radius: 3px;' title='1.0'> with</span><span style='background-color: rgba(0.0, 165.0, 0, 0.15); border-radius: 3px;' title='1.0'> the</span><span style='background-color: rgba(0.0, 165.0, 0, 0.15); border-radius: 3px;' title='1.0'> broader</span><span style='background-color: rgba(0.0, 165.0, 0, 0.15); border-radius: 3px;' title='1.0'> framework</span><span style='background-color: rgba(0.0, 165.0, 0, 0.15); border-radius: 3px;' title='1.0'> of</span><span style='background-color: rgba(0.0, 165.0, 0, 0.15); border-radius: 3px;' title='1.0'> interventions</span><span style='background-color: rgba(0.0, 165.0, 0, 0.15); border-radius: 3px;' title='1.0'> in</span><span style='background-color: rgba(0.0, 165.0, 0, 0.15); border-radius: 3px;' title='1.0'> health</span><span style='background-color: rgba(0.0, 165.0, 0, 0.15); border-radius: 3px;' title='1.0'> and</span><span style='background-color: rgba(0.0, 165.0, 0, 0.15); border-radius: 3px;' title='1.0'> other</span><span style='background-color: rgba(0.0, 165.0, 0, 0.15); border-radius: 3px;' title='1.0'> fields</span><span style='background-color: rgba(0.0, 165.0, 0, 0.15); border-radius: 3px;' title='1.0'>,</span><span style='background-color: rgba(0.0, 165.0, 0, 0.15); border-radius: 3px;' title='1.0'> where</span><span style='background-color: rgba(0.0, 165.0, 0, 0.15); border-radius: 3px;' title='1.0'> preventive</span><span style='background-color: rgba(0.0, 165.0, 0, 0.15); border-radius: 3px;' title='1.0'> measures</span><span style='background-color: rgba(0.0, 165.0, 0, 0.15); border-radius: 3px;' title='1.0'> aim</span><span style='background-color: rgba(0.0, 165.0, 0, 0.15); border-radius: 3px;' title='1.0'> to</span><span style='background-color: rgba(0.0, 165.0, 0, 0.15); border-radius: 3px;' title='1.0'> stop</span><span style='background-color: rgba(0.0, 165.0, 0, 0.15); border-radius: 3px;' title='1.0'> problems</span><span style='background-color: rgba(0.0, 165.0, 0, 0.15); border-radius: 3px;' title='1.0'> before</span><span style='background-color: rgba(0.0, 165.0, 0, 0.15); border-radius: 3px;' title='1.0'> they</span><span style='background-color: rgba(0.0, 165.0, 0, 0.15); border-radius: 3px;' title='1.0'> occur</span><span style='background-color: rgba(0.0, 165.0, 0, 0.15); border-radius: 3px;' title='1.0'>,</span><span style='background-color: rgba(0.0, 165.0, 0, 0.15); border-radius: 3px;' title='1.0'> and</span><span style='background-color: rgba(0.0, 165.0, 0, 0.15); border-radius: 3px;' title='1.0'> therapeutic</span><span style='background-color: rgba(0.0, 165.0, 0, 0.15); border-radius: 3px;' title='1.0'> measures</span><span style='background-color: rgba(0.0, 165.0, 0, 0.15); border-radius: 3px;' title='1.0'> address</span><span style='background-color: rgba(0.0, 165.0, 0, 0.15); border-radius: 3px;' title='1.0'> problems</span><span style='background-color: rgba(0.0, 165.0, 0, 0.15); border-radius: 3px;' title='1.0'> that</span><span style='background-color: rgba(0.0, 165.0, 0, 0.15); border-radius: 3px;' title='1.0'> have</span><span style='background-color: rgba(0.0, 165.0, 0, 0.15); border-radius: 3px;' title='1.0'> already</span><span style='background-color: rgba(0.0, 165.0, 0, 0.15); border-radius: 3px;' title='1.0'> manifested</span><span style='background-color: rgba(0.0, 165.0, 0, 0.15); border-radius: 3px;' title='1.0'> [</span><span style='background-color: rgba(0.0, 165.0, 0, 0.15); border-radius: 3px;' title='1.0'>15</span><span style='background-color: rgba(0.0, 165.0, 0, 0.15); border-radius: 3px;' title='1.0'>],</span><span style='background-color: rgba(0.0, 165.0, 0, 0.15); border-radius: 3px;' title='1.0'> [</span><span style='background-color: rgba(0.0, 165.0, 0, 0.15); border-radius: 3px;' title='1.0'>25</span><span style='background-color: rgba(0.0, 165.0, 0, 0.15); border-radius: 3px;' title='1.0'>].</span></div></div></pre>"
      ],
      "text/plain": [
       "<guidance.models._openai.OpenAI at 0x74de0c440160>"
      ]
     },
     "execution_count": 23,
     "metadata": {},
     "output_type": "execute_result"
    }
   ],
   "source": [
    "# # Step 3 summarize and generate\n",
    "# see make_prompt in stampy https://github.com/StampyAI/stampy-chat/blob/990c5dcad5721484c43f6297d84208614a5bf568/api/src/stampy_chat/chat.py#L245\n",
    "lm = llama2\n",
    "\n",
    "@guidance\n",
    "def do_answers(lm, query, docs, history_summary=''):\n",
    "    with silent():\n",
    "        with system():\n",
    "            lm += \"\"\"You are a helpful assistant knowledgeable about AI Alignment and Safety. Please give a clear and coherent answer to the user\\'s questions. (written after \"Q:\") using the following sources. Each source is labeled with a letter. Feel free to use the sources in any order, and try to use multiple sources in your answers\"\"\"\n",
    "        with user():\n",
    "            for i, d in enumerate(docs):\n",
    "                lm += f\"[{i}] {d['name']} {d['content']}\\n\\n\"\n",
    "            \n",
    "            # lm += HISTORY_PROMPT\n",
    "            lm += QUESTION_PROMPT + f'Q: {history_summary}: {query}'\n",
    "        with assistant():\n",
    "            lm += gen('ans')\n",
    "    return lm\n",
    "\n",
    "r = lm + do_answers(q, docs)\n",
    "# r"
   ]
  },
  {
   "cell_type": "code",
   "execution_count": 15,
   "id": "90ce9ff9",
   "metadata": {},
   "outputs": [
    {
     "data": {
      "text/html": [
       "<h3>Anwser</h3><p>Mechanistic interpretability (mechinterp) interventions can be broadly categorized into several main types, each focusing on different aspects of understanding and improving AI systems. These categories include:</p>\n",
       "\n",
       "<ol>\n",
       "<li><p><strong>Red-Teaming Procedures and Benchmarks</strong>: These interventions involve developing procedures and benchmarks based on mechanistic interpretability methods to assess the safety and ethics of AI models. This approach aims to understand the internal representations and learned algorithms of models to ensure they align with desired safety and ethical standards [<a href=\"https://www.lesswrong.com/posts/64MizJXzyvrYpeKqm/sparsify-a-mechanistic-interpretability-research-agenda\"><span title=\"Sparsify: A mechanistic interpretability research agenda:\n",
       "\n",
       "Mechanistic interpretability-based model evaluations: We can develop red-teaming procedures and benchmarks based on our mechanistic interpretability methods to assess the safety and ethics of the models’ internal representations and learned algorithms. These would be a type of ‘ understanding-based model evals ’.\">5</span></a>].</p></li>\n",
       "<li><p><strong>Reverse-Engineering Neural Networks</strong>: This category focuses on reverse-engineering the computational mechanisms and representations learned by neural networks. The goal is to translate these mechanisms into human-understandable algorithms and concepts, providing a granular, causal understanding of the AI systems&#x27; inner workings [<a href=\"https://www.semanticscholar.org/paper/Mechanistic-Interpretability-for-AI-Safety-A-Review-Bereska-Gavves/8b750488d139f9beba0815ff8f46ebe15ebb3e58\"><span title=\"Mechanistic Interpretability for AI Safety - A Review - Semantic Scholar:\n",
       "\n",
       "This review explores mechanistic interpretability: reverse-engineering the computational mechanisms and representations learned by neural networks into human-understandable algorithms and concepts to provide a granular, causal understanding of AI systems&#x27; inner workings. Understanding AI systems&#x27; inner workings is critical for ensuring value alignment and safety. This review explores ...\">17</span></a>, <a href=\"https://medium.com/@prdeepak.babu/decoding-ais-thought-process-mechanistic-interpretability-54db5727e7e8\"><span title=\"Decoding AI’s Thought Process: Mechanistic Interpretability:\n",
       "\n",
       "Mechanistic Interpretability is a field of study that concerns study of neural networks (more generally ML models) with an intent to understand and explain inner workings of a machine learned model.\">27</span></a>].</p></li>\n",
       "<li><p><strong>Circuit Analysis</strong>: This involves analyzing the underlying circuits responsible for specific behaviors within neural networks. Techniques like activation patching or circuit tracing are used to understand how certain representations emerge and are computed within the model [<a href=\"https://arxiv.org/html/2404.14082v1\"><span title=\"Mechanistic Interpretability for AI Safety A Review - arXiv.org:\n",
       "\n",
       "For instance, identifying truth directions through structured probes could help guide targeted interventions or analyze the underlying circuits responsible for truthful behavior using mechanistic techniques like activation patching or circuit tracing (Section 4.2). Conversely, mechanistic methods could provide insights into how truth representations emerge and are computed within the model ...\">13</span></a>, <a href=\"https://arxiv.org/pdf/2304.14997\"><span title=\"Towards Automated Circuit Discovery for Mechanistic Interpretability:\n",
       "\n",
       "2 The Mechanistic Interpretability Workflow Mechanistic interpretability attempts to explain and predict neural network behaviors by understand-ing the underlying algorithms implemented by models. In the related work section we discuss the mechanistic interpretability field and its relationship to ‘circuits’ research (Section5). Neural network\">12</span></a>].</p></li>\n",
       "<li><p><strong>Understanding-Based Model Evaluations</strong>: These evaluations aim to understand the internal cognition of models by reverse-engineering their parameters. This is analogous to reverse-engineering a program’s source code from its compiled binary, with the goal of understanding the algorithms and internal cognition of the model [<a href=\"https://www.neelnanda.io/mechanistic-interpretability/quickstart\"><span title=\"Mechanistic Interpretability Quickstart Guide — Neel Nanda:\n",
       "\n",
       "Introduction. Mechanistic Interpretability is the study of reverse-engineering neural networks - analogous to how we might try to reverse-engineer a program’s source code from its compiled binary, our goal is to reverse engineer the parameters of a trained neural network, and to try to reverse engineer what algorithms and internal cognition ...\">8</span></a>, <a href=\"https://www.lesswrong.com/posts/AaABQpuoNC8gpHf2n/a-barebones-guide-to-mechanistic-interpretability\"><span title=\"A Barebones Guide to Mechanistic Interpretability Prerequisites - LessWrong:\n",
       "\n",
       "Thanks for writing this! Here is a quick explanation of all the math concepts – mostly written by ChatGPT with some manual edits. A basis for a vector space is a set of linearly independent vectors that can be used to represent any vector in the space as a linear combination of those basis vectors. For example, in two-dimensional Euclidean space, the standard basis is the set of vectors (1 ...\">23</span></a>].</p></li>\n",
       "<li><p><strong>Truth Representation Analysis</strong>: This involves identifying and analyzing the directions within the model that represent truthful behavior. Structured probes and other mechanistic techniques are used to guide targeted interventions and analyze the circuits responsible for these behaviors [<a href=\"https://arxiv.org/html/2404.14082v1\"><span title=\"Mechanistic Interpretability for AI Safety A Review - arXiv.org:\n",
       "\n",
       "For instance, identifying truth directions through structured probes could help guide targeted interventions or analyze the underlying circuits responsible for truthful behavior using mechanistic techniques like activation patching or circuit tracing (Section 4.2). Conversely, mechanistic methods could provide insights into how truth representations emerge and are computed within the model ...\">13</span></a>].</p></li>\n",
       "</ol>\n",
       "\n",
       "<p>These categories collectively aim to enhance the transparency, safety, and ethical alignment of AI systems by providing deeper insights into their internal workings and ensuring they operate as intended.</p>\n",
       "<p/><p/><h3>References:</h3><p/>- <a href=\"https://www.lesswrong.com/posts/64MizJXzyvrYpeKqm/sparsify-a-mechanistic-interpretability-research-agenda\">[5]</a>: Sparsify: A mechanistic interpretability research agenda - Mechanistic interpretability-based model evaluations: We can develop red-teaming procedures and benchmarks based on our mechanistic interpretability methods to assess the safety and ethics of the models’ internal representations and learned algorithms. These would be a type of ‘ understanding-based model evals ’.<p/>- <a href=\"https://www.neelnanda.io/mechanistic-interpretability/quickstart\">[8]</a>: Mechanistic Interpretability Quickstart Guide — Neel Nanda - Introduction. Mechanistic Interpretability is the study of reverse-engineering neural networks - analogous to how we might try to reverse-engineer a program’s source code from its compiled binary, our goal is to reverse engineer the parameters of a trained neural network, and to try to reverse engineer what algorithms and internal cognition ...<p/>- <a href=\"https://arxiv.org/pdf/2304.14997\">[12]</a>: Towards Automated Circuit Discovery for Mechanistic Interpretability - 2 The Mechanistic Interpretability Workflow Mechanistic interpretability attempts to explain and predict neural network behaviors by understand-ing the underlying algorithms implemented by models. In the related work section we discuss the mechanistic interpretability field and its relationship to ‘circuits’ research (Section5). Neural network<p/>- <a href=\"https://arxiv.org/html/2404.14082v1\">[13]</a>: Mechanistic Interpretability for AI Safety A Review - arXiv.org - For instance, identifying truth directions through structured probes could help guide targeted interventions or analyze the underlying circuits responsible for truthful behavior using mechanistic techniques like activation patching or circuit tracing (Section 4.2). Conversely, mechanistic methods could provide insights into how truth representations emerge and are computed within the model ...<p/>- <a href=\"https://www.semanticscholar.org/paper/Mechanistic-Interpretability-for-AI-Safety-A-Review-Bereska-Gavves/8b750488d139f9beba0815ff8f46ebe15ebb3e58\">[17]</a>: Mechanistic Interpretability for AI Safety - A Review - Semantic Scholar - This review explores mechanistic interpretability: reverse-engineering the computational mechanisms and representations learned by neural networks into human-understandable algorithms and concepts to provide a granular, causal understanding of AI systems&#x27; inner workings. Understanding AI systems&#x27; inner workings is critical for ensuring value alignment and safety. This review explores ...<p/>- <a href=\"https://www.lesswrong.com/posts/AaABQpuoNC8gpHf2n/a-barebones-guide-to-mechanistic-interpretability\">[23]</a>: A Barebones Guide to Mechanistic Interpretability Prerequisites - LessWrong - Thanks for writing this! Here is a quick explanation of all the math concepts – mostly written by ChatGPT with some manual edits. A basis for a vector space is a set of linearly independent vectors that can be used to represent any vector in the space as a linear combination of those basis vectors. For example, in two-dimensional Euclidean space, the standard basis is the set of vectors (1 ...<p/>- <a href=\"https://medium.com/@prdeepak.babu/decoding-ais-thought-process-mechanistic-interpretability-54db5727e7e8\">[27]</a>: Decoding AI’s Thought Process: Mechanistic Interpretability - Mechanistic Interpretability is a field of study that concerns study of neural networks (more generally ML models) with an intent to understand and explain inner workings of a machine learned model.<p/>"
      ],
      "text/plain": [
       "<IPython.core.display.HTML object>"
      ]
     },
     "execution_count": 15,
     "metadata": {},
     "output_type": "execute_result"
    }
   ],
   "source": [
    "# now a nice html interface with tooltips and list of refs, need to replace numbers\n",
    "ans = r['ans']\n",
    "format_ans(ans, docs)"
   ]
  },
  {
   "cell_type": "code",
   "execution_count": null,
   "id": "019f1487",
   "metadata": {},
   "outputs": [],
   "source": []
  },
  {
   "cell_type": "code",
   "execution_count": null,
   "id": "7ead0e68",
   "metadata": {},
   "outputs": [],
   "source": []
  }
 ],
 "metadata": {
  "kernelspec": {
   "display_name": "Python 3.10.4 64-bit",
   "language": "python",
   "name": "python3"
  },
  "language_info": {
   "codemirror_mode": {
    "name": "ipython",
    "version": 3
   },
   "file_extension": ".py",
   "mimetype": "text/x-python",
   "name": "python",
   "nbconvert_exporter": "python",
   "pygments_lexer": "ipython3",
   "version": "3.10.12"
  },
  "toc": {
   "base_numbering": 1,
   "nav_menu": {},
   "number_sections": true,
   "sideBar": true,
   "skip_h1_title": false,
   "title_cell": "Table of Contents",
   "title_sidebar": "Contents",
   "toc_cell": false,
   "toc_position": {},
   "toc_section_display": true,
   "toc_window_display": false
  },
  "vscode": {
   "interpreter": {
    "hash": "916dbcbb3f70747c44a77c7bcd40155683ae19c65e1c03b4aa3499c5328201f1"
   }
  }
 },
 "nbformat": 4,
 "nbformat_minor": 5
}
